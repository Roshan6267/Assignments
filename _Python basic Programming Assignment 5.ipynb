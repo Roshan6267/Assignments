{
 "cells": [
  {
   "cell_type": "markdown",
   "id": "295c1bcf",
   "metadata": {},
   "source": [
    "#  Python basic Programming Assignment 5"
   ]
  },
  {
   "cell_type": "markdown",
   "id": "5180bbd9",
   "metadata": {},
   "source": [
    "1.\tWrite a Python Program to Find LCM?"
   ]
  },
  {
   "cell_type": "code",
   "execution_count": 1,
   "id": "1a13f730",
   "metadata": {},
   "outputs": [
    {
     "name": "stdout",
     "output_type": "stream",
     "text": [
      "Enter the number: 4\n",
      "Enter the number: 3\n",
      "The LCM of 4 and 3 is 12\n"
     ]
    }
   ],
   "source": [
    "x= int(input(\"Enter the number: \"))\n",
    "y= int(input(\"Enter the number: \"))\n",
    "\n",
    "if x>y:\n",
    "    big=x\n",
    "else:\n",
    "    big=y\n",
    "while(True):\n",
    "    if big % x == 0 and big % y == 0:\n",
    "        lcm = big\n",
    "        break\n",
    "    big += 1\n",
    "    \n",
    "print(\"The LCM of {} and {} is {}\".format(x,y,lcm))"
   ]
  },
  {
   "cell_type": "markdown",
   "id": "7bbe64c9",
   "metadata": {},
   "source": [
    "2.\tWrite a Python Program to Find HCF?"
   ]
  },
  {
   "cell_type": "code",
   "execution_count": 2,
   "id": "55e308e4",
   "metadata": {},
   "outputs": [
    {
     "name": "stdout",
     "output_type": "stream",
     "text": [
      "Enter the number: 4\n",
      "Enter the number: 5\n",
      "The hcf of 4 and 5 is 1\n"
     ]
    }
   ],
   "source": [
    "x= int(input(\"Enter the number: \"))\n",
    "y= int(input(\"Enter the number: \"))\n",
    "if x<y:\n",
    "    small=x\n",
    "else:\n",
    "    small=y\n",
    "for i in range(1,small+1):\n",
    "    if x%i==0 and y%i==0:\n",
    "        hcf=i\n",
    "        \n",
    "print(\"The hcf of {} and {} is {}\".format(x,y,hcf))"
   ]
  },
  {
   "cell_type": "markdown",
   "id": "5f3b8620",
   "metadata": {},
   "source": [
    "3.\tWrite a Python Program to Convert Decimal to Binary, Octal and Hexadecimal?"
   ]
  },
  {
   "cell_type": "code",
   "execution_count": 3,
   "id": "38738f68",
   "metadata": {},
   "outputs": [
    {
     "name": "stdout",
     "output_type": "stream",
     "text": [
      "Enter the number: 55\n",
      "55 binary number:  0b110111\n",
      "55 octal number:  0o67\n",
      "55 hexadecimal number:  0x37\n"
     ]
    }
   ],
   "source": [
    "x= int(input(\"Enter the number: \"))\n",
    "print(x,\"binary number: \",bin(x))\n",
    "print(x,\"octal number: \",oct(x))\n",
    "print(x,\"hexadecimal number: \",hex(x))"
   ]
  },
  {
   "cell_type": "markdown",
   "id": "d1e8d688",
   "metadata": {},
   "source": [
    "4.\tWrite a Python Program To Find ASCII value of a character?"
   ]
  },
  {
   "cell_type": "code",
   "execution_count": 10,
   "id": "57c9c420",
   "metadata": {},
   "outputs": [
    {
     "name": "stdout",
     "output_type": "stream",
     "text": [
      "Enter the number: t\n",
      "The ASCII value of t is 116\n"
     ]
    }
   ],
   "source": [
    "x= input(\"Enter the number: \")\n",
    "print(\"The ASCII value of\",x,\"is\",ord(str(x)))"
   ]
  },
  {
   "cell_type": "markdown",
   "id": "b107a460",
   "metadata": {},
   "source": [
    "5.\tWrite a Python Program to Make a Simple Calculator with 4 basic mathematical operations?"
   ]
  },
  {
   "cell_type": "code",
   "execution_count": 15,
   "id": "87c45e98",
   "metadata": {},
   "outputs": [
    {
     "name": "stdout",
     "output_type": "stream",
     "text": [
      "Enter the number1: 4\n",
      "Enter the number2: 5\n",
      "Enter the mathematical operation: *\n",
      "4.0*5.0: 20.0\n"
     ]
    }
   ],
   "source": [
    "x= float(input(\"Enter the number1: \"))\n",
    "y= float(input(\"Enter the number2: \"))\n",
    "\n",
    "op = input(\"Enter the mathematical operation: \")\n",
    "\n",
    "add = x+y\n",
    "sub = x-y\n",
    "mul = x*y\n",
    "\n",
    "if op == '+':\n",
    "    print(f\"{x}+{y}: {add}\")\n",
    "elif op == \"-\":\n",
    "    print(f\"{x}-{y}: {sub}\")\n",
    "elif op == \"*\":\n",
    "    print(f\"{x}*{y}: {mul}\")\n",
    "elif op == \"/\":\n",
    "    if number1 == 0 or number2 == 0:\n",
    "        print(\"Division with zero is not possible\")\n",
    "    else:\n",
    "        div == x/y\n",
    "        print(f\"{x}/{y}: {div}\")\n",
    "else:\n",
    "    print(\"Invalid input\")"
   ]
  },
  {
   "cell_type": "code",
   "execution_count": null,
   "id": "28a920e7",
   "metadata": {},
   "outputs": [],
   "source": []
  }
 ],
 "metadata": {
  "kernelspec": {
   "display_name": "Python 3 (ipykernel)",
   "language": "python",
   "name": "python3"
  },
  "language_info": {
   "codemirror_mode": {
    "name": "ipython",
    "version": 3
   },
   "file_extension": ".py",
   "mimetype": "text/x-python",
   "name": "python",
   "nbconvert_exporter": "python",
   "pygments_lexer": "ipython3",
   "version": "3.9.13"
  }
 },
 "nbformat": 4,
 "nbformat_minor": 5
}
