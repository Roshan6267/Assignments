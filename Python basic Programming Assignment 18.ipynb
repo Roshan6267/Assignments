{
 "cells": [
  {
   "cell_type": "markdown",
   "id": "988a0a94",
   "metadata": {},
   "source": [
    "# Python basic Programming Assignment 18"
   ]
  },
  {
   "cell_type": "markdown",
   "id": "c26e90e0",
   "metadata": {},
   "source": [
    ">Q. Create a function that takes a list of non-negative integers and strings and return a new list without the strings. Examples filter_list([1, 2, 'a', 'b']) ➞ [1, 2] filter_list([1, 'a', 'b', 0, 15]) ➞ [1, 0, 15] filter_list([1, 2, 'aasf', '1', '123', 123]) ➞ [1, 2, 123]\n"
   ]
  },
  {
   "cell_type": "code",
   "execution_count": 2,
   "id": "82245716",
   "metadata": {},
   "outputs": [
    {
     "name": "stdout",
     "output_type": "stream",
     "text": [
      "[1, 2]\n"
     ]
    }
   ],
   "source": [
    "l = [1,2,'a','b']\n",
    "\n",
    "def filter_list(l):\n",
    "    new_list = []\n",
    "    for x in l:\n",
    "        if type(x) == int:\n",
    "            new_list.append(x)\n",
    "    return new_list\n",
    "print(filter_list(l))"
   ]
  },
  {
   "cell_type": "markdown",
   "id": "00db8104",
   "metadata": {},
   "source": [
    ">Q. The 'Reverser' takes a string as input and returns that string in reverse order, with the opposite case. Examples reverse('Hello World') ➞ 'DLROw OLLEh' reverse('ReVeRsE') ➞ 'eSrEvEr' reverse('Radar') ➞ 'RADAr'"
   ]
  },
  {
   "cell_type": "code",
   "execution_count": 6,
   "id": "758bf452",
   "metadata": {},
   "outputs": [
    {
     "name": "stdout",
     "output_type": "stream",
     "text": [
      "eSrEvEr\n"
     ]
    }
   ],
   "source": [
    "def reverser(txt):\n",
    "    return txt.swapcase()[::-1]\n",
    "\n",
    "print(reverser('ReVeRsE'))"
   ]
  },
  {
   "cell_type": "markdown",
   "id": "e95330a9",
   "metadata": {},
   "source": [
    ">Q. You can assign variables from lists like this: lst = [1, 2, 3, 4, 5, 6] first = lst[0] middle = lst[1:-1] last = lst[-1] print(first) ➞ outputs 1 print(middle) ➞ outputs [2, 3, 4, 5] print(last) ➞ outputs 6 With Python 3, you can assign variables from lists in a much more succinct way. Create variables first, middle and last from the given list using destructuring assignment (check the Resources tab for some examples), where: first ➞ 1 middle ➞ [2, 3, 4, 5] last ➞ 6\n",
    "\n",
    "Your task is to unpack the list writeyourcodehere into three variables, being first, middle, and last, with middle being everything in between the first and last element. Then print all three variables."
   ]
  },
  {
   "cell_type": "code",
   "execution_count": 8,
   "id": "f5c1b892",
   "metadata": {},
   "outputs": [
    {
     "data": {
      "text/plain": [
       "[2, 3, 4, 5]"
      ]
     },
     "execution_count": 8,
     "metadata": {},
     "output_type": "execute_result"
    }
   ],
   "source": [
    "lst = [1, 2, 3, 4, 5, 6]\n",
    "first ,*middle,last = lst\n",
    "middle"
   ]
  },
  {
   "cell_type": "code",
   "execution_count": 9,
   "id": "075a1efd",
   "metadata": {},
   "outputs": [
    {
     "data": {
      "text/plain": [
       "1"
      ]
     },
     "execution_count": 9,
     "metadata": {},
     "output_type": "execute_result"
    }
   ],
   "source": [
    "first"
   ]
  },
  {
   "cell_type": "code",
   "execution_count": 10,
   "id": "c2f03f82",
   "metadata": {},
   "outputs": [
    {
     "data": {
      "text/plain": [
       "6"
      ]
     },
     "execution_count": 10,
     "metadata": {},
     "output_type": "execute_result"
    }
   ],
   "source": [
    "last"
   ]
  },
  {
   "cell_type": "markdown",
   "id": "211b699f",
   "metadata": {},
   "source": [
    ">Q. Write a function that calculates the factorial of a number recursively. Examples factorial(5) ➞ 120 factorial(3) ➞ 6 factorial(1) ➞ 1 factorial(0) ➞ 1"
   ]
  },
  {
   "cell_type": "code",
   "execution_count": 11,
   "id": "9e0de273",
   "metadata": {},
   "outputs": [
    {
     "name": "stdout",
     "output_type": "stream",
     "text": [
      "enter a number :4\n",
      "Factorial of 4 is 24\n"
     ]
    }
   ],
   "source": [
    "def factorial(n):     \n",
    "    if n == 0:\n",
    "        return 1    \n",
    "    return n * factorial(n-1)\n",
    "\n",
    "num = int(input('enter a number :'))\n",
    "print(\"Factorial of\", num, \"is\", factorial(num))"
   ]
  },
  {
   "cell_type": "markdown",
   "id": "3cbe5bcc",
   "metadata": {},
   "source": [
    ">Q. Write a function that moves all elements of one type to the end of the list. Examples move_to_end([1, 3, 2, 4, 4, 1], 1) ➞ [3, 2, 4, 4, 1, 1] Move all the 1s to the end of the array. move_to_end([7, 8, 9, 1, 2, 3, 4], 9) ➞ [7, 8, 1, 2, 3, 4, 9] move_to_end(['a', 'a', 'a', 'b'], 'a') ➞ ['b', 'a', 'a', 'a']"
   ]
  },
  {
   "cell_type": "code",
   "execution_count": 15,
   "id": "92b38b41",
   "metadata": {},
   "outputs": [
    {
     "name": "stdout",
     "output_type": "stream",
     "text": [
      "[7, 8, 1, 2, 3, 4, 9]\n"
     ]
    }
   ],
   "source": [
    "def move_to_end(lst,element):\n",
    "    count = lst.count(element)\n",
    "    lst[:] = [x for x in lst if x!= element]\n",
    "    lst.extend([element]*count)\n",
    "    return lst\n",
    "\n",
    "print(move_to_end([7, 8, 9, 1, 2, 3, 4], 9)) "
   ]
  },
  {
   "cell_type": "code",
   "execution_count": 16,
   "id": "b3c8faf1",
   "metadata": {},
   "outputs": [
    {
     "name": "stdout",
     "output_type": "stream",
     "text": [
      "['b', 'a', 'a', 'a']\n"
     ]
    }
   ],
   "source": [
    "print(move_to_end(['a', 'a', 'a', 'b'], 'a'))"
   ]
  },
  {
   "cell_type": "code",
   "execution_count": null,
   "id": "4b23ddf9",
   "metadata": {},
   "outputs": [],
   "source": []
  }
 ],
 "metadata": {
  "kernelspec": {
   "display_name": "Python 3 (ipykernel)",
   "language": "python",
   "name": "python3"
  },
  "language_info": {
   "codemirror_mode": {
    "name": "ipython",
    "version": 3
   },
   "file_extension": ".py",
   "mimetype": "text/x-python",
   "name": "python",
   "nbconvert_exporter": "python",
   "pygments_lexer": "ipython3",
   "version": "3.9.13"
  }
 },
 "nbformat": 4,
 "nbformat_minor": 5
}
