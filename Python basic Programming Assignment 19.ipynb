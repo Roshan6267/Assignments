{
 "cells": [
  {
   "cell_type": "markdown",
   "id": "a1744f71",
   "metadata": {},
   "source": [
    "# Python basic Programming Assignment 19"
   ]
  },
  {
   "cell_type": "markdown",
   "id": "db795ffd",
   "metadata": {},
   "source": [
    ">Q.Create a function that takes a string and returns a string in which each character is repeated once. Examples double_char('String') ➞ 'SSttrriinngg' double_char('Hello World!') ➞ 'HHeelllloo WWoorrlldd!!' double_char('1234!_ ') ➞ '11223344!!__ '"
   ]
  },
  {
   "cell_type": "code",
   "execution_count": 1,
   "id": "46c13af1",
   "metadata": {},
   "outputs": [
    {
     "name": "stdout",
     "output_type": "stream",
     "text": [
      "aabbvv\n"
     ]
    }
   ],
   "source": [
    "def double_char(txt):\n",
    "    return \"\".join([c+c for c in txt])\n",
    "print(double_char('abv'))"
   ]
  },
  {
   "cell_type": "markdown",
   "id": "d1140a02",
   "metadata": {},
   "source": [
    ">Q. Create a function that reverses a boolean value and returns the string 'boolean expected' if another variable type is given. Examples reverse(True) ➞ False reverse(False) ➞ True reverse(0) ➞ 'boolean expected' reverse(None) ➞ 'boolean expected'"
   ]
  },
  {
   "cell_type": "code",
   "execution_count": 3,
   "id": "4ef58028",
   "metadata": {},
   "outputs": [
    {
     "name": "stdout",
     "output_type": "stream",
     "text": [
      "False\n",
      "True\n",
      "boolean expected\n",
      "boolean expected\n"
     ]
    }
   ],
   "source": [
    "def reverse(arg=None):\n",
    "    return not arg if type(arg) == bool else \"boolean expected\"\n",
    "print(reverse(True)) \n",
    "print(reverse(False)) \n",
    "print(reverse(0))\n",
    "print(reverse(None))"
   ]
  },
  {
   "cell_type": "markdown",
   "id": "9ae5f275",
   "metadata": {},
   "source": [
    ">Q.Create a function that returns the thickness (in meters) of a piece of paper after folding it n number of times. The paper starts off with a thickness of 0.5mm. Examples num_layers(1) ➞ '0.001m' Paper folded once is 1mm (equal to 0.001m) num_layers(4) ➞ '0.008m' Paper folded 4 times is 8mm (equal to 0.008m) num_layers(21) ➞ '1048.576m' Paper folded 21 times is 1048576mm (equal to 1048.576m)"
   ]
  },
  {
   "cell_type": "code",
   "execution_count": 9,
   "id": "f6f73762",
   "metadata": {},
   "outputs": [
    {
     "name": "stdout",
     "output_type": "stream",
     "text": [
      "0.001m\n",
      "0.008m\n",
      "1048.576m\n"
     ]
    }
   ],
   "source": [
    "def num_layers(n):\n",
    "    thickness = 0.5\n",
    "    for _ in range(n):\n",
    "        thickness *= 2\n",
    "    \n",
    "    return str(thickness / 1000)+'m'\n",
    "\n",
    "print(num_layers(1))\n",
    "print(num_layers(4))\n",
    "print(num_layers(21))"
   ]
  },
  {
   "cell_type": "markdown",
   "id": "d4f23891",
   "metadata": {},
   "source": [
    ">Q. Create a function that takes a single string as argument and returns an ordered list containing the indices of all capital letters in the string. Examples index_of_caps('eDaBiT') ➞ [1, 3, 5] index_of_caps('eQuINoX') ➞ [1, 3, 4, 6] index_of_caps('determine') ➞ [] index_of_caps('STRIKE') ➞ [0, 1, 2, 3, 4, 5] index_of_caps('sUn') ➞ [1]"
   ]
  },
  {
   "cell_type": "code",
   "execution_count": 10,
   "id": "6dcc9a58",
   "metadata": {},
   "outputs": [
    {
     "name": "stdout",
     "output_type": "stream",
     "text": [
      "[1, 3, 5]\n",
      "[1, 3, 4, 6]\n",
      "[]\n"
     ]
    }
   ],
   "source": [
    "def index_of_caps(txt):\n",
    "    indices = []\n",
    "    for i in range(len(txt)):\n",
    "        if txt[i].isupper():\n",
    "            indices.append(i)\n",
    "            \n",
    "    return indices\n",
    "\n",
    "print(index_of_caps('eDaBiT'))\n",
    "print(index_of_caps('eQuINoX')) \n",
    "print(index_of_caps('determine'))"
   ]
  },
  {
   "cell_type": "markdown",
   "id": "a5a5d908",
   "metadata": {},
   "source": [
    ">Q.Using list comprehensions, create a function that finds all even numbers from 1 to the given number. Examples find_even_nums(8) ➞ [2, 4, 6, 8] find_even_nums(4) ➞ [2, 4] find_even_nums(2) ➞ [2]"
   ]
  },
  {
   "cell_type": "code",
   "execution_count": 11,
   "id": "e82c8212",
   "metadata": {},
   "outputs": [
    {
     "name": "stdout",
     "output_type": "stream",
     "text": [
      "Enter a number : 8\n"
     ]
    },
    {
     "data": {
      "text/plain": [
       "[2, 4, 6, 8]"
      ]
     },
     "execution_count": 11,
     "metadata": {},
     "output_type": "execute_result"
    }
   ],
   "source": [
    "def find_even_nums(n):\n",
    "    even = [x for x in range(2,n+1) if x%2==0]\n",
    "    return even\n",
    "n = int(input('Enter a number : '))\n",
    "find_even_nums(n)"
   ]
  },
  {
   "cell_type": "code",
   "execution_count": null,
   "id": "a8c8e366",
   "metadata": {},
   "outputs": [],
   "source": []
  }
 ],
 "metadata": {
  "kernelspec": {
   "display_name": "Python 3 (ipykernel)",
   "language": "python",
   "name": "python3"
  },
  "language_info": {
   "codemirror_mode": {
    "name": "ipython",
    "version": 3
   },
   "file_extension": ".py",
   "mimetype": "text/x-python",
   "name": "python",
   "nbconvert_exporter": "python",
   "pygments_lexer": "ipython3",
   "version": "3.9.13"
  }
 },
 "nbformat": 4,
 "nbformat_minor": 5
}
