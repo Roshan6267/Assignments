{
 "cells": [
  {
   "cell_type": "markdown",
   "id": "ae92349d",
   "metadata": {},
   "source": [
    "# Python basic Programming Assignment 8"
   ]
  },
  {
   "cell_type": "markdown",
   "id": "45ec202d",
   "metadata": {},
   "source": [
    "1.\tWrite a Python Program to Add Two Matrices?"
   ]
  },
  {
   "cell_type": "code",
   "execution_count": 1,
   "id": "1df0dca3",
   "metadata": {},
   "outputs": [
    {
     "name": "stdout",
     "output_type": "stream",
     "text": [
      "[[ 6  8]\n",
      " [10 12]]\n"
     ]
    }
   ],
   "source": [
    "import numpy as np\n",
    "mat1 = np.array([[1,2],\n",
    "        [3,4]])\n",
    "mat2 = np.array([[5,6],\n",
    "        [7,8]])\n",
    "\n",
    "matsum = np.add(mat1,mat2)\n",
    "print(matsum)"
   ]
  },
  {
   "cell_type": "markdown",
   "id": "ec7842ae",
   "metadata": {},
   "source": [
    "2.\tWrite a Python Program to Multiply Two Matrices?"
   ]
  },
  {
   "cell_type": "code",
   "execution_count": 3,
   "id": "bea8f90f",
   "metadata": {},
   "outputs": [
    {
     "name": "stdout",
     "output_type": "stream",
     "text": [
      "[[19 22]\n",
      " [43 50]]\n"
     ]
    }
   ],
   "source": [
    "mat1 = np.array([[1,2],\n",
    "        [3,4]])\n",
    "mat2 = np.array([[5,6],\n",
    "        [7,8]])\n",
    "\n",
    "mulsum = np.dot(mat1,mat2)\n",
    "print(mulsum)"
   ]
  },
  {
   "cell_type": "markdown",
   "id": "66b7c526",
   "metadata": {},
   "source": [
    "3.\tWrite a Python Program to Transpose a Matrix?"
   ]
  },
  {
   "cell_type": "code",
   "execution_count": 5,
   "id": "b9b83d77",
   "metadata": {},
   "outputs": [
    {
     "name": "stdout",
     "output_type": "stream",
     "text": [
      "[[5 7 1]\n",
      " [6 8 2]\n",
      " [7 9 3]]\n"
     ]
    }
   ],
   "source": [
    "mat1 = np.array([\n",
    "    [5,6,7],\n",
    "    [7,8,9],\n",
    "    [1,2,3]\n",
    "])\n",
    "\n",
    "transmat = np.transpose(mat1)\n",
    "print(transmat)"
   ]
  },
  {
   "cell_type": "markdown",
   "id": "325ea0ac",
   "metadata": {},
   "source": [
    "4.\tWrite a Python Program to Sort Words in Alphabetic Order?"
   ]
  },
  {
   "cell_type": "code",
   "execution_count": 10,
   "id": "26c851ab",
   "metadata": {},
   "outputs": [
    {
     "name": "stdout",
     "output_type": "stream",
     "text": [
      "Enter stringDo you love python\n",
      "Do\n",
      "love\n",
      "python\n",
      "you\n"
     ]
    }
   ],
   "source": [
    "Arr = input(\"Enter string\")\n",
    "words = Arr.split()\n",
    "words.sort()\n",
    "for word in words:\n",
    "    print(word)"
   ]
  },
  {
   "cell_type": "markdown",
   "id": "8cb1fd76",
   "metadata": {},
   "source": [
    "5.\tWrite a Python Program to Remove Punctuation From a String?"
   ]
  },
  {
   "cell_type": "code",
   "execution_count": 14,
   "id": "c463a243",
   "metadata": {},
   "outputs": [
    {
     "name": "stdout",
     "output_type": "stream",
     "text": [
      "Enter a string with punctuations: \"Hello, World! This is a test sentence.\"\n",
      "Hello World This is a test sentence\n"
     ]
    }
   ],
   "source": [
    "punctuations = '''!()-[]{};:'\"\\,<>./?@#$%^&*_~'''\n",
    "\n",
    "Arr = input(\"Enter a string with punctuations: \")\n",
    "\n",
    "\n",
    "rem_punc = \"\"\n",
    "for i in Arr:\n",
    "    if i not in punctuations:\n",
    "        rem_punc = rem_punc + i\n",
    " \n",
    "print(rem_punc)"
   ]
  },
  {
   "cell_type": "code",
   "execution_count": null,
   "id": "72875575",
   "metadata": {},
   "outputs": [],
   "source": []
  }
 ],
 "metadata": {
  "kernelspec": {
   "display_name": "Python 3 (ipykernel)",
   "language": "python",
   "name": "python3"
  },
  "language_info": {
   "codemirror_mode": {
    "name": "ipython",
    "version": 3
   },
   "file_extension": ".py",
   "mimetype": "text/x-python",
   "name": "python",
   "nbconvert_exporter": "python",
   "pygments_lexer": "ipython3",
   "version": "3.9.13"
  }
 },
 "nbformat": 4,
 "nbformat_minor": 5
}
