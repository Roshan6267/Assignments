{
 "cells": [
  {
   "cell_type": "markdown",
   "id": "69cab3c0",
   "metadata": {},
   "source": [
    "# Python basic Programming Assignment 7"
   ]
  },
  {
   "cell_type": "markdown",
   "id": "63624c60",
   "metadata": {},
   "source": [
    "1.\tWrite a Python Program to find sum of array?"
   ]
  },
  {
   "cell_type": "code",
   "execution_count": 1,
   "id": "2695fc8b",
   "metadata": {},
   "outputs": [
    {
     "name": "stdout",
     "output_type": "stream",
     "text": [
      "Sum :  24\n"
     ]
    }
   ],
   "source": [
    "sum =0\n",
    "arr = [1,2,3,4,5,9]\n",
    "for i in range(0,len(arr)):\n",
    "    sum+=arr[i]\n",
    "print(\"Sum : \",sum)"
   ]
  },
  {
   "cell_type": "markdown",
   "id": "30194365",
   "metadata": {},
   "source": [
    "2.\tWrite a Python Program to find largest element in an array?"
   ]
  },
  {
   "cell_type": "code",
   "execution_count": 5,
   "id": "c03b3a14",
   "metadata": {},
   "outputs": [
    {
     "name": "stdout",
     "output_type": "stream",
     "text": [
      "77\n",
      "Largest element in [1, 2, 3, 4, 77, 9] is 77\n"
     ]
    }
   ],
   "source": [
    "c = 0\n",
    "arr = [1,2,3,4,77,9]\n",
    "for i in range(0, len(arr)):\n",
    "  if c > arr[i]:\n",
    "    print(c)\n",
    "  else :\n",
    "    c = arr[i]\n",
    "\n",
    "print(\"Largest element in {} is {}\".format(arr ,c) ) "
   ]
  },
  {
   "cell_type": "markdown",
   "id": "61d1ebab",
   "metadata": {},
   "source": [
    "3.\tWrite a Python Program for array rotation?"
   ]
  },
  {
   "cell_type": "code",
   "execution_count": 21,
   "id": "60f66b2b",
   "metadata": {},
   "outputs": [
    {
     "name": "stdout",
     "output_type": "stream",
     "text": [
      "Original Array: [1, 2, 3, 4, 9]\n",
      "Array after rotation: [3, 4, 9, 1, 2]\n"
     ]
    }
   ],
   "source": [
    "arr = [1,2,3,4,9]\n",
    "rot = []\n",
    "n = len(arr)\n",
    "rotation_count = 2\n",
    "for i in range(n):\n",
    "    new_index = (i + rotation_count) % n\n",
    "    rot.append(arr[new_index])\n",
    "    \n",
    "print(\"Original Array:\", arr)\n",
    "print(\"Array after rotation:\", rot)"
   ]
  },
  {
   "cell_type": "markdown",
   "id": "3d312489",
   "metadata": {},
   "source": [
    "4.\tWrite a Python Program to Split the array and add the first part to the end?"
   ]
  },
  {
   "cell_type": "code",
   "execution_count": 4,
   "id": "085e63a3",
   "metadata": {},
   "outputs": [
    {
     "name": "stdout",
     "output_type": "stream",
     "text": [
      "the split list is [1, 2, 3]\n",
      "The List after split and add : [4, 77, 9, 1, 2, 3]\n"
     ]
    }
   ],
   "source": [
    "arr = [1,2,3,4,77,9]\n",
    "n=3\n",
    "l=len(arr)\n",
    "if l<n:\n",
    "    print(\"not possible to split the array\")\n",
    "else:\n",
    "    print(f\"the split list is {arr[:n]}\")\n",
    "    arr1 = arr[n:l] + arr[:n]\n",
    "    print(\"The List after split and add :\", arr1)"
   ]
  },
  {
   "cell_type": "markdown",
   "id": "7954f2f1",
   "metadata": {},
   "source": [
    "5.\tWrite a Python Program to check if given array is Monotonic?"
   ]
  },
  {
   "cell_type": "code",
   "execution_count": 8,
   "id": "9350486c",
   "metadata": {},
   "outputs": [
    {
     "name": "stdout",
     "output_type": "stream",
     "text": [
      "array is monotonic\n"
     ]
    }
   ],
   "source": [
    "arr = [1,2,3,4,77]\n",
    "\n",
    "monotonic = True\n",
    "\n",
    "for i in range(1,len(arr)-1):\n",
    "    if arr[i]<arr[i-1]:\n",
    "        monotonic=False\n",
    "        break\n",
    "        \n",
    "if monotonic == True:\n",
    "    print(\"array is monotonic\")\n",
    "else:\n",
    "    print(\"not monotonic\")"
   ]
  },
  {
   "cell_type": "code",
   "execution_count": null,
   "id": "91a4f260",
   "metadata": {},
   "outputs": [],
   "source": []
  }
 ],
 "metadata": {
  "kernelspec": {
   "display_name": "Python 3 (ipykernel)",
   "language": "python",
   "name": "python3"
  },
  "language_info": {
   "codemirror_mode": {
    "name": "ipython",
    "version": 3
   },
   "file_extension": ".py",
   "mimetype": "text/x-python",
   "name": "python",
   "nbconvert_exporter": "python",
   "pygments_lexer": "ipython3",
   "version": "3.9.13"
  }
 },
 "nbformat": 4,
 "nbformat_minor": 5
}
