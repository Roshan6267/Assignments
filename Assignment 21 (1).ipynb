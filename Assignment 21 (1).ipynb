{
 "cells": [
  {
   "cell_type": "markdown",
   "id": "74183fa2",
   "metadata": {},
   "source": [
    "# Python Assignment 21"
   ]
  },
  {
   "cell_type": "markdown",
   "id": "066ac2a0",
   "metadata": {},
   "source": [
    "1. Add the current date to the text file today.txt as a string."
   ]
  },
  {
   "cell_type": "code",
   "execution_count": 9,
   "id": "cdc36fad",
   "metadata": {},
   "outputs": [
    {
     "name": "stdout",
     "output_type": "stream",
     "text": [
      "Current date has been added to today.txt successfully.\n",
      "2024-02-27\n"
     ]
    }
   ],
   "source": [
    "from datetime import datetime\n",
    "current_date = datetime.now().strftime(\"%Y-%m-%d\")\n",
    "with open(\"today.txt\",\"a\") as file:\n",
    "    file.write(current_date )\n",
    "    \n",
    "print(\"Current date has been added to today.txt successfully.\")\n",
    "print(current_date)"
   ]
  },
  {
   "cell_type": "markdown",
   "id": "460b3ae4",
   "metadata": {},
   "source": [
    "2. Read the text file today.txt into the string today_string"
   ]
  },
  {
   "cell_type": "code",
   "execution_count": 10,
   "id": "34a798c9",
   "metadata": {},
   "outputs": [
    {
     "data": {
      "text/plain": [
       "'2024-02-27'"
      ]
     },
     "execution_count": 10,
     "metadata": {},
     "output_type": "execute_result"
    }
   ],
   "source": [
    "with open('today.txt','r') as file:\n",
    "    today_string = file.read()\n",
    "today_string"
   ]
  },
  {
   "cell_type": "markdown",
   "id": "b8869cc1",
   "metadata": {},
   "source": [
    "3. Parse the date from today_string."
   ]
  },
  {
   "cell_type": "code",
   "execution_count": 11,
   "id": "6db338ac",
   "metadata": {},
   "outputs": [
    {
     "data": {
      "text/plain": [
       "datetime.datetime(2024, 2, 27, 0, 0)"
      ]
     },
     "execution_count": 11,
     "metadata": {},
     "output_type": "execute_result"
    }
   ],
   "source": [
    "from datetime import datetime\n",
    "format = '%Y-%m-%d'\n",
    "datetime.strptime(today_string,format)\n",
    "     "
   ]
  },
  {
   "cell_type": "markdown",
   "id": "6946a32f",
   "metadata": {},
   "source": [
    "4. List the files in your current directory"
   ]
  },
  {
   "cell_type": "code",
   "execution_count": 12,
   "id": "bf986b30",
   "metadata": {},
   "outputs": [
    {
     "data": {
      "text/plain": [
       "['.bash_history',\n",
       " '.bash_profile',\n",
       " '.conda',\n",
       " '.condarc',\n",
       " '.config',\n",
       " '.continuum',\n",
       " '.cufflinks',\n",
       " '.docker',\n",
       " '.git',\n",
       " '.git-for-windows-updater',\n",
       " '.gitconfig',\n",
       " '.ipynb_checkpoints',\n",
       " '.ipython',\n",
       " '.jupyter',\n",
       " '.lesshst',\n",
       " '.matplotlib',\n",
       " '.ms-ad',\n",
       " '.rediscli_history',\n",
       " '.spyder-py3',\n",
       " '.tcshrc',\n",
       " '.vscode',\n",
       " '.xonshrc',\n",
       " '.zshrc',\n",
       " '6.3 python list.ipynb',\n",
       " 'Admission_Prediction.csv',\n",
       " 'akash.jpg',\n",
       " 'anaconda3',\n",
       " 'AppData',\n",
       " 'Application Data',\n",
       " 'Assignment 21.ipynb',\n",
       " 'Assignment First.ipynb',\n",
       " 'aug.html',\n",
       " 'aug_test.csv',\n",
       " 'Basic Class.ipynb',\n",
       " 'books.csv',\n",
       " 'books.db',\n",
       " 'Class Ass 2.ipynb',\n",
       " 'Class Ass.ipynb',\n",
       " 'cleaned_google_playstore_data.csv',\n",
       " 'clustering implementation .ipynb',\n",
       " 'Contacts',\n",
       " 'Cookies',\n",
       " 'Documents',\n",
       " 'Downloads',\n",
       " 'dvc',\n",
       " 'EDA libraries.ipynb',\n",
       " 'EDA Practice.ipynb',\n",
       " 'EDA_and_FE_2=.ipynb',\n",
       " 'Favorites',\n",
       " 'gfg.docx',\n",
       " 'gradientboosting.ipynb',\n",
       " 'graph.ipynb',\n",
       " 'gtts.ipynb',\n",
       " 'Hello.mp3',\n",
       " 'HISTORICAL CODE.ipynb',\n",
       " 'input.html',\n",
       " 'IntelGraphicsProfiles',\n",
       " 'Iris.csv',\n",
       " 'KNN_classification_and_regression.ipynb',\n",
       " 'Linear Regression.ipynb',\n",
       " 'Links',\n",
       " 'Local Settings',\n",
       " 'Logistic Regression.ipynb',\n",
       " 'mlflow',\n",
       " 'Music',\n",
       " 'My Documents',\n",
       " 'NetHood',\n",
       " 'New folder',\n",
       " 'New folder (2)',\n",
       " 'NTUSER.DAT',\n",
       " 'ntuser.dat.LOG1',\n",
       " 'ntuser.dat.LOG2',\n",
       " 'NTUSER.DAT{2c06d553-a3e0-11ed-b45e-95bf3a96068c}.TM.blf',\n",
       " 'NTUSER.DAT{2c06d553-a3e0-11ed-b45e-95bf3a96068c}.TMContainer00000000000000000001.regtrans-ms',\n",
       " 'NTUSER.DAT{2c06d553-a3e0-11ed-b45e-95bf3a96068c}.TMContainer00000000000000000002.regtrans-ms',\n",
       " 'ntuser.ini',\n",
       " 'OneDrive',\n",
       " 'output.html',\n",
       " 'PCA_Implentation.ipynb',\n",
       " 'playstore.html',\n",
       " 'Postman',\n",
       " 'print code.ipynb',\n",
       " 'PrintHood',\n",
       " 'Project.ipynb',\n",
       " 'python stats.ipynb',\n",
       " 'python variable .ipynb',\n",
       " 'pythonstats.ipynb',\n",
       " 'Random doubts.ipynb',\n",
       " 'Recent',\n",
       " 'review-scraaper-aws',\n",
       " 'review-scrapper-aws',\n",
       " 'ros1.zip',\n",
       " 'Sample.ipynb',\n",
       " 'Saved Games',\n",
       " 'scikit_learn_data',\n",
       " 'seaborn-data',\n",
       " 'Searches',\n",
       " 'SendTo',\n",
       " 'Start Menu',\n",
       " 'SVM Kernels.ipynb',\n",
       " 'SVM Practical.ipynb',\n",
       " 'SWEETVIZ_REPORT.html',\n",
       " 'task questions part 2.ipynb',\n",
       " 'Templates',\n",
       " 'test.png',\n",
       " 'test.txt',\n",
       " 'testword.doc',\n",
       " 'time_series_implentation_1.ipynb',\n",
       " 'tips.csv',\n",
       " 'Titanic.csv',\n",
       " 'today.txt',\n",
       " 'Untitled.ipynb',\n",
       " 'Videos',\n",
       " 'xgboosting.ipynb',\n",
       " 'zoo.py',\n",
       " '__pycache__']"
      ]
     },
     "execution_count": 12,
     "metadata": {},
     "output_type": "execute_result"
    }
   ],
   "source": [
    "import os\n",
    "os.listdir('.')"
   ]
  },
  {
   "cell_type": "markdown",
   "id": "38364e02",
   "metadata": {},
   "source": [
    "5. Create a list of all of the files in your parent directory (minimum five files should be available)."
   ]
  },
  {
   "cell_type": "code",
   "execution_count": 15,
   "id": "d167243b",
   "metadata": {},
   "outputs": [
    {
     "name": "stdout",
     "output_type": "stream",
     "text": [
      "Files in the parent directory:\n",
      "['All Users', 'Default', 'Default User', 'desktop.ini', 'Public']\n"
     ]
    }
   ],
   "source": [
    "current_dir = os.getcwd()\n",
    "parent_dir = os.path.dirname(current_dir)\n",
    "files = os.listdir(parent_dir)\n",
    "print(\"Files in the parent directory:\")\n",
    "print(files[:5])"
   ]
  },
  {
   "cell_type": "markdown",
   "id": "b10192c3",
   "metadata": {},
   "source": [
    "6. Use multiprocessing to create three separate processes. Make each one wait a random number of seconds between one and five, print the current time, and then exit."
   ]
  },
  {
   "cell_type": "code",
   "execution_count": 8,
   "id": "7af9efe3",
   "metadata": {},
   "outputs": [
    {
     "name": "stdout",
     "output_type": "stream",
     "text": [
      "All processes completed.\n"
     ]
    }
   ],
   "source": [
    "import multiprocessing \n",
    "import random\n",
    "  \n",
    "def printsec(seconds):\n",
    "    from datetime import datetime\n",
    "    from time import sleep\n",
    "    sleep(seconds)\n",
    "    print('wait', seconds, 'seconds, time is', datetime.utcnow()) \n",
    "  \n",
    "if __name__ == \"__main__\":\n",
    "    processes = []\n",
    "    seconds = random.random()\n",
    "    for i in range(3):\n",
    "        p = multiprocessing.Process(target=printsec, args=(seconds,))\n",
    "        processes.append(p)\n",
    "        p.start()\n",
    "\n",
    "    for p in processes:\n",
    "        p.join()\n",
    "\n",
    "    print(\"All processes completed.\")"
   ]
  },
  {
   "cell_type": "markdown",
   "id": "ab34e469",
   "metadata": {},
   "source": [
    "7. Create a date object of your day of birth."
   ]
  },
  {
   "cell_type": "code",
   "execution_count": 20,
   "id": "cf9e9462",
   "metadata": {},
   "outputs": [
    {
     "data": {
      "text/plain": [
       "datetime.date(1998, 9, 9)"
      ]
     },
     "execution_count": 20,
     "metadata": {},
     "output_type": "execute_result"
    }
   ],
   "source": [
    "from datetime import date\n",
    "my_dob = date(1998,9,9)\n",
    "my_dob"
   ]
  },
  {
   "cell_type": "markdown",
   "id": "3e95b320",
   "metadata": {},
   "source": [
    "8. What day of the week was your day of birth?"
   ]
  },
  {
   "cell_type": "code",
   "execution_count": 21,
   "id": "4261bf9b",
   "metadata": {},
   "outputs": [
    {
     "data": {
      "text/plain": [
       "2"
      ]
     },
     "execution_count": 21,
     "metadata": {},
     "output_type": "execute_result"
    }
   ],
   "source": [
    "my_dob.weekday()"
   ]
  },
  {
   "cell_type": "markdown",
   "id": "3ad6be8a",
   "metadata": {},
   "source": [
    "9. When will you be (or when were you) 10,000 days old?"
   ]
  },
  {
   "cell_type": "code",
   "execution_count": 22,
   "id": "e41c5406",
   "metadata": {},
   "outputs": [
    {
     "data": {
      "text/plain": [
       "datetime.date(2026, 1, 25)"
      ]
     },
     "execution_count": 22,
     "metadata": {},
     "output_type": "execute_result"
    }
   ],
   "source": [
    "from datetime import timedelta\n",
    "day10000 = my_dob + timedelta(days=10000)\n",
    "day10000"
   ]
  },
  {
   "cell_type": "code",
   "execution_count": null,
   "id": "51291ace",
   "metadata": {},
   "outputs": [],
   "source": []
  }
 ],
 "metadata": {
  "kernelspec": {
   "display_name": "Python 3 (ipykernel)",
   "language": "python",
   "name": "python3"
  },
  "language_info": {
   "codemirror_mode": {
    "name": "ipython",
    "version": 3
   },
   "file_extension": ".py",
   "mimetype": "text/x-python",
   "name": "python",
   "nbconvert_exporter": "python",
   "pygments_lexer": "ipython3",
   "version": "3.9.13"
  }
 },
 "nbformat": 4,
 "nbformat_minor": 5
}
