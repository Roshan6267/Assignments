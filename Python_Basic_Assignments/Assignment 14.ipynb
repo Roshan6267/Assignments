{
 "cells": [
  {
   "cell_type": "markdown",
   "id": "93548053",
   "metadata": {},
   "source": [
    ">  1. What does RGBA stand for?"
   ]
  },
  {
   "cell_type": "markdown",
   "id": "3e3f2644",
   "metadata": {},
   "source": [
    "Ans. RGBA stand for red, blue, green and alpha (transparency) in the color"
   ]
  },
  {
   "cell_type": "markdown",
   "id": "e731da7e",
   "metadata": {},
   "source": [
    "> 2. From the Pillow module, how do you get the RGBA value of any images?"
   ]
  },
  {
   "cell_type": "code",
   "execution_count": 1,
   "id": "422f2722",
   "metadata": {},
   "outputs": [
    {
     "data": {
      "text/plain": [
       "(255, 0, 0, 255)"
      ]
     },
     "execution_count": 1,
     "metadata": {},
     "output_type": "execute_result"
    }
   ],
   "source": [
    "from PIL import ImageColor\n",
    "ImageColor.getcolor('green', 'RGBA')\n",
    "ImageColor.getcolor('red', 'RGBA')"
   ]
  },
  {
   "cell_type": "markdown",
   "id": "32df9a77",
   "metadata": {},
   "source": [
    "> 3. What is a box tuple, and how does it work?"
   ]
  },
  {
   "cell_type": "markdown",
   "id": "b66bd45b",
   "metadata": {},
   "source": [
    "Ans. A box tuple is a tuple value of four integers: the left edge x-coordinate, the top edge y-coordinate, the width, and the height, respectively"
   ]
  },
  {
   "cell_type": "markdown",
   "id": "12c571f6",
   "metadata": {},
   "source": [
    "> 4. Use your image and load in notebook then, How can you find out the width and height of an Image object?"
   ]
  },
  {
   "cell_type": "code",
   "execution_count": 2,
   "id": "062dedab",
   "metadata": {},
   "outputs": [
    {
     "data": {
      "text/plain": [
       "(300, 382)"
      ]
     },
     "execution_count": 2,
     "metadata": {},
     "output_type": "execute_result"
    }
   ],
   "source": [
    "from PIL import Image\n",
    "myImg = Image.open('akash.jpg')\n",
    "weight,height = myImg.size\n",
    "weight,height"
   ]
  },
  {
   "cell_type": "markdown",
   "id": "80e514c4",
   "metadata": {},
   "source": [
    "> 5. What method would you call to get Image object for a 100×100 image, excluding the lower-left quarter of it?"
   ]
  },
  {
   "cell_type": "markdown",
   "id": "b7ad8606",
   "metadata": {},
   "source": [
    "Ans. ImageObject.crop((0, 50, 50, 50))"
   ]
  },
  {
   "cell_type": "markdown",
   "id": "8334fa19",
   "metadata": {},
   "source": [
    "> 6. After making changes to an Image object, how could you save it as an image file?"
   ]
  },
  {
   "cell_type": "markdown",
   "id": "2e3f4812",
   "metadata": {},
   "source": [
    "Ans. By Calling the imageObj.save('new_filename.png') method of the Image object."
   ]
  },
  {
   "cell_type": "markdown",
   "id": "ba1b50b6",
   "metadata": {},
   "source": [
    "> 7. What module contains Pillow’s shape-drawing code?"
   ]
  },
  {
   "cell_type": "markdown",
   "id": "6be406f9",
   "metadata": {},
   "source": [
    "Ans. The ImageDraw module contains code to draw on images."
   ]
  },
  {
   "cell_type": "markdown",
   "id": "a0284a44",
   "metadata": {},
   "source": [
    "> 8. Image objects do not have drawing methods. What kind of object does? How do you get this kind of object?"
   ]
  },
  {
   "cell_type": "markdown",
   "id": "491581e2",
   "metadata": {},
   "source": [
    "Ans. ImageDraw objects have shape-drawing methods such as point(), line(), or rectangle(). They are returned by passing the Image object to the ImageDraw.Draw() function."
   ]
  },
  {
   "cell_type": "code",
   "execution_count": null,
   "id": "0eb84b28",
   "metadata": {},
   "outputs": [],
   "source": []
  }
 ],
 "metadata": {
  "kernelspec": {
   "display_name": "Python 3 (ipykernel)",
   "language": "python",
   "name": "python3"
  },
  "language_info": {
   "codemirror_mode": {
    "name": "ipython",
    "version": 3
   },
   "file_extension": ".py",
   "mimetype": "text/x-python",
   "name": "python",
   "nbconvert_exporter": "python",
   "pygments_lexer": "ipython3",
   "version": "3.9.13"
  }
 },
 "nbformat": 4,
 "nbformat_minor": 5
}
