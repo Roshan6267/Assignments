{
 "cells": [
  {
   "cell_type": "markdown",
   "id": "55e3b774",
   "metadata": {},
   "source": [
    "1. What are escape characters, and how do you use them?"
   ]
  },
  {
   "cell_type": "markdown",
   "id": "e23dcad0",
   "metadata": {},
   "source": [
    "Escape character represent character in string values that would otherwise be difficult or impossible to type into code."
   ]
  },
  {
   "cell_type": "code",
   "execution_count": 9,
   "id": "91066312",
   "metadata": {},
   "outputs": [
    {
     "data": {
      "text/plain": [
       "\"Roshan is a 'good' boy.\""
      ]
     },
     "execution_count": 9,
     "metadata": {},
     "output_type": "execute_result"
    }
   ],
   "source": [
    "#using backlash escape character\n",
    "A = \"Roshan is a \\'good\\' boy.\"\n",
    "A"
   ]
  },
  {
   "cell_type": "markdown",
   "id": "c3179ca3",
   "metadata": {},
   "source": [
    "2. What do the escape characters n and t stand for?"
   ]
  },
  {
   "cell_type": "code",
   "execution_count": 16,
   "id": "52200be4",
   "metadata": {},
   "outputs": [
    {
     "name": "stdout",
     "output_type": "stream",
     "text": [
      "A\n",
      "B\n",
      "C\n"
     ]
    }
   ],
   "source": [
    "#\\n stands for new line\n",
    "print(\"A\\nB\\nC\")"
   ]
  },
  {
   "cell_type": "code",
   "execution_count": 20,
   "id": "32cd89d4",
   "metadata": {},
   "outputs": [
    {
     "name": "stdout",
     "output_type": "stream",
     "text": [
      "A\tB\tC\n"
     ]
    }
   ],
   "source": [
    "#\\t stands for tab space\n",
    "print(\"A\\tB\\tC\")"
   ]
  },
  {
   "cell_type": "markdown",
   "id": "920d7c50",
   "metadata": {},
   "source": [
    "3. What is the way to include backslash characters in a string?"
   ]
  },
  {
   "cell_type": "code",
   "execution_count": 21,
   "id": "f99d3b4a",
   "metadata": {},
   "outputs": [
    {
     "name": "stdout",
     "output_type": "stream",
     "text": [
      "A\\B\\C\n"
     ]
    }
   ],
   "source": [
    "#The \\\\ escape character will represent a backlash character in a string\n",
    "print(\"A\\\\B\\\\C\")"
   ]
  },
  {
   "cell_type": "markdown",
   "id": "aab43d72",
   "metadata": {},
   "source": [
    "4. The string \"Howl's Moving Castle\" is a correct value. Why isn't the single quote character in the word Howl's not escaped a problem?"
   ]
  },
  {
   "cell_type": "markdown",
   "id": "60097474",
   "metadata": {},
   "source": [
    "There is no issue with the single quote character in the word Howl's, it's fine because we have used double quote to mark in the beginning and end of the string."
   ]
  },
  {
   "cell_type": "code",
   "execution_count": 24,
   "id": "4f11070f",
   "metadata": {},
   "outputs": [
    {
     "data": {
      "text/plain": [
       "\"Howl's Moving Castle\""
      ]
     },
     "execution_count": 24,
     "metadata": {},
     "output_type": "execute_result"
    }
   ],
   "source": [
    " \"Howl's Moving Castle\" "
   ]
  },
  {
   "cell_type": "markdown",
   "id": "d851c083",
   "metadata": {},
   "source": [
    "5. How do you write a string of newlines if you don't want to use the n character?"
   ]
  },
  {
   "cell_type": "markdown",
   "id": "9e1e130a",
   "metadata": {},
   "source": [
    "We can use three single quotes or three double quotes iin the beginning and end of the string to create new lines.  \n",
    "**OR**,Multiline strings allow you to use new lines without escape n character."
   ]
  },
  {
   "cell_type": "code",
   "execution_count": 28,
   "id": "2da60c0c",
   "metadata": {},
   "outputs": [
    {
     "name": "stdout",
     "output_type": "stream",
     "text": [
      "My\n",
      "name\n",
      "is\n",
      "Roshan\n"
     ]
    }
   ],
   "source": [
    "print(\"\"\"My\n",
    "name\n",
    "is\n",
    "Roshan\"\"\")"
   ]
  },
  {
   "cell_type": "code",
   "execution_count": 29,
   "id": "4a4f57d0",
   "metadata": {},
   "outputs": [
    {
     "name": "stdout",
     "output_type": "stream",
     "text": [
      "My\n",
      "name\n",
      "is\n",
      "Roshan\n"
     ]
    }
   ],
   "source": [
    "print('''My\n",
    "name\n",
    "is\n",
    "Roshan''')"
   ]
  },
  {
   "cell_type": "code",
   "execution_count": 30,
   "id": "1a5a59f1",
   "metadata": {},
   "outputs": [
    {
     "name": "stdout",
     "output_type": "stream",
     "text": [
      "My\n",
      "Name\n",
      "is\n",
      "Roshan\n"
     ]
    }
   ],
   "source": [
    "print(\"My\")\n",
    "print(\"Name\")\n",
    "print(\"is\")\n",
    "print(\"Roshan\")"
   ]
  },
  {
   "cell_type": "markdown",
   "id": "df8f7fa7",
   "metadata": {},
   "source": [
    "6. What are the values of the given expressions?  \n",
    "'Hello, world!'[1]  \n",
    "'Hello, world!'[0:5]  \n",
    "'Hello, world!'[:5]  \n",
    "'Hello, world!'[3:]\n"
   ]
  },
  {
   "cell_type": "code",
   "execution_count": 31,
   "id": "48d4cb43",
   "metadata": {},
   "outputs": [
    {
     "data": {
      "text/plain": [
       "'e'"
      ]
     },
     "execution_count": 31,
     "metadata": {},
     "output_type": "execute_result"
    }
   ],
   "source": [
    "'Hello, world!'[1]"
   ]
  },
  {
   "cell_type": "code",
   "execution_count": 32,
   "id": "3caf7c9d",
   "metadata": {},
   "outputs": [
    {
     "data": {
      "text/plain": [
       "'Hello'"
      ]
     },
     "execution_count": 32,
     "metadata": {},
     "output_type": "execute_result"
    }
   ],
   "source": [
    "'Hello, world!'[0:5]"
   ]
  },
  {
   "cell_type": "code",
   "execution_count": 33,
   "id": "7d40639e",
   "metadata": {},
   "outputs": [
    {
     "data": {
      "text/plain": [
       "'Hello'"
      ]
     },
     "execution_count": 33,
     "metadata": {},
     "output_type": "execute_result"
    }
   ],
   "source": [
    "'Hello, world!'[:5]"
   ]
  },
  {
   "cell_type": "code",
   "execution_count": 34,
   "id": "b3c879f8",
   "metadata": {},
   "outputs": [
    {
     "data": {
      "text/plain": [
       "'lo, world!'"
      ]
     },
     "execution_count": 34,
     "metadata": {},
     "output_type": "execute_result"
    }
   ],
   "source": [
    "'Hello, world!'[3:]"
   ]
  },
  {
   "cell_type": "markdown",
   "id": "4b4fd2b4",
   "metadata": {},
   "source": [
    "7. What are the values of the following expressions?  \n",
    "'Hello'.upper()  \n",
    "'Hello'.upper().isupper()  \n",
    "'Hello'.upper().lower()     \n"
   ]
  },
  {
   "cell_type": "code",
   "execution_count": 35,
   "id": "a32ad1a3",
   "metadata": {},
   "outputs": [
    {
     "data": {
      "text/plain": [
       "'HELLO'"
      ]
     },
     "execution_count": 35,
     "metadata": {},
     "output_type": "execute_result"
    }
   ],
   "source": [
    "'Hello'.upper()"
   ]
  },
  {
   "cell_type": "code",
   "execution_count": 36,
   "id": "cd6313f0",
   "metadata": {},
   "outputs": [
    {
     "data": {
      "text/plain": [
       "True"
      ]
     },
     "execution_count": 36,
     "metadata": {},
     "output_type": "execute_result"
    }
   ],
   "source": [
    "'Hello'.upper().isupper()"
   ]
  },
  {
   "cell_type": "code",
   "execution_count": 37,
   "id": "69f3e45f",
   "metadata": {},
   "outputs": [
    {
     "data": {
      "text/plain": [
       "'hello'"
      ]
     },
     "execution_count": 37,
     "metadata": {},
     "output_type": "execute_result"
    }
   ],
   "source": [
    "'Hello'.upper().lower()"
   ]
  },
  {
   "cell_type": "markdown",
   "id": "30a30511",
   "metadata": {},
   "source": [
    "8. What are the values of the following expressions?  \n",
    "'Remember, remember, the fifth of July.'.split()  \n",
    "'-'.join('There can only one.'.split())\n"
   ]
  },
  {
   "cell_type": "code",
   "execution_count": 38,
   "id": "77e1d0fa",
   "metadata": {},
   "outputs": [
    {
     "data": {
      "text/plain": [
       "['Remember,', 'remember,', 'the', 'fifth', 'of', 'July.']"
      ]
     },
     "execution_count": 38,
     "metadata": {},
     "output_type": "execute_result"
    }
   ],
   "source": [
    "'Remember, remember, the fifth of July.'.split()"
   ]
  },
  {
   "cell_type": "code",
   "execution_count": 39,
   "id": "f837b775",
   "metadata": {},
   "outputs": [
    {
     "data": {
      "text/plain": [
       "'There-can-only-one.'"
      ]
     },
     "execution_count": 39,
     "metadata": {},
     "output_type": "execute_result"
    }
   ],
   "source": [
    "'-'.join('There can only one.'.split())"
   ]
  },
  {
   "cell_type": "markdown",
   "id": "8451738a",
   "metadata": {},
   "source": [
    "9. What are the methods for right-justifying, left-justifying, and centering a string?"
   ]
  },
  {
   "cell_type": "code",
   "execution_count": 51,
   "id": "3a88306c",
   "metadata": {},
   "outputs": [
    {
     "data": {
      "text/plain": [
       "'*******Roshan*******'"
      ]
     },
     "execution_count": 51,
     "metadata": {},
     "output_type": "execute_result"
    }
   ],
   "source": [
    "#use center()\n",
    "name = \"Roshan\"\n",
    "name.center(20,'*')"
   ]
  },
  {
   "cell_type": "code",
   "execution_count": 53,
   "id": "cc8e3c57",
   "metadata": {},
   "outputs": [
    {
     "data": {
      "text/plain": [
       "'Roshan              '"
      ]
     },
     "execution_count": 53,
     "metadata": {},
     "output_type": "execute_result"
    }
   ],
   "source": [
    "#use ljust()\n",
    "name = \"Roshan\"\n",
    "name.ljust(20,\" \")"
   ]
  },
  {
   "cell_type": "code",
   "execution_count": 54,
   "id": "eb6a1a47",
   "metadata": {},
   "outputs": [
    {
     "data": {
      "text/plain": [
       "'&&&&&&&&&&&&&&Roshan'"
      ]
     },
     "execution_count": 54,
     "metadata": {},
     "output_type": "execute_result"
    }
   ],
   "source": [
    "#use rjust()\n",
    "name = \"Roshan\"\n",
    "name.rjust(20,'&')"
   ]
  },
  {
   "cell_type": "markdown",
   "id": "b76278cc",
   "metadata": {},
   "source": [
    "10. What is the best way to remove whitespace characters from the start or end?"
   ]
  },
  {
   "cell_type": "code",
   "execution_count": 55,
   "id": "3be6f0c2",
   "metadata": {},
   "outputs": [
    {
     "data": {
      "text/plain": [
       "'Roshan'"
      ]
     },
     "execution_count": 55,
     "metadata": {},
     "output_type": "execute_result"
    }
   ],
   "source": [
    "# use lstrip() to remove whitespace from the left end of the string\n",
    "name = \"               Roshan\"\n",
    "name.lstrip()"
   ]
  },
  {
   "cell_type": "code",
   "execution_count": 60,
   "id": "b59fda4f",
   "metadata": {},
   "outputs": [
    {
     "data": {
      "text/plain": [
       "'Roshan'"
      ]
     },
     "execution_count": 60,
     "metadata": {},
     "output_type": "execute_result"
    }
   ],
   "source": [
    "# use rstrip() to remove whitespace from the right end of the string\n",
    "name = \"Roshan        \"\n",
    "name.rstrip()"
   ]
  },
  {
   "cell_type": "code",
   "execution_count": null,
   "id": "18737e90",
   "metadata": {},
   "outputs": [],
   "source": []
  }
 ],
 "metadata": {
  "kernelspec": {
   "display_name": "Python 3 (ipykernel)",
   "language": "python",
   "name": "python3"
  },
  "language_info": {
   "codemirror_mode": {
    "name": "ipython",
    "version": 3
   },
   "file_extension": ".py",
   "mimetype": "text/x-python",
   "name": "python",
   "nbconvert_exporter": "python",
   "pygments_lexer": "ipython3",
   "version": "3.9.13"
  }
 },
 "nbformat": 4,
 "nbformat_minor": 5
}
