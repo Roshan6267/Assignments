{
 "cells": [
  {
   "cell_type": "markdown",
   "id": "b68770ed",
   "metadata": {},
   "source": [
    "1. What is the name of the feature responsible for generating Regex objects"
   ]
  },
  {
   "cell_type": "markdown",
   "id": "37ee39dd",
   "metadata": {},
   "source": [
    "Ans. The re.compile() function generates Regex objects."
   ]
  },
  {
   "cell_type": "markdown",
   "id": "090d0765",
   "metadata": {},
   "source": [
    "2. Why do raw strings often appear in Regex objects?"
   ]
  },
  {
   "cell_type": "markdown",
   "id": "fdf05290",
   "metadata": {},
   "source": [
    "Ans. Raw strings often appears in Regex objects so that escape characters so not have to be escaped."
   ]
  },
  {
   "cell_type": "code",
   "execution_count": 1,
   "id": "48ef543c",
   "metadata": {},
   "outputs": [
    {
     "name": "stdout",
     "output_type": "stream",
     "text": [
      "Hello\\tineuron\\n\n"
     ]
    }
   ],
   "source": [
    "import re \n",
    "s = r'Hello\\tineuron\\n'\n",
    "print(s)"
   ]
  },
  {
   "cell_type": "markdown",
   "id": "a3985a22",
   "metadata": {},
   "source": [
    "3. What is the return value of the search() method?"
   ]
  },
  {
   "cell_type": "markdown",
   "id": "acf79d55",
   "metadata": {},
   "source": [
    "Ans. The return value of the search() method is Match object."
   ]
  },
  {
   "cell_type": "code",
   "execution_count": 10,
   "id": "3e9a3b1e",
   "metadata": {},
   "outputs": [
    {
     "name": "stdout",
     "output_type": "stream",
     "text": [
      "<re.Match object; span=(19, 25), match='string'>\n"
     ]
    }
   ],
   "source": [
    "import re\n",
    "Substring = \"string\"\n",
    "String1 = \"Regex is useful of string matching\"\n",
    "srt = re.search(r'(string)',String1)\n",
    "print(srt)"
   ]
  },
  {
   "cell_type": "markdown",
   "id": "74c61b0d",
   "metadata": {},
   "source": [
    "4. From a Match item, how do you get the actual strings that match the pattern?"
   ]
  },
  {
   "cell_type": "markdown",
   "id": "c544d0f4",
   "metadata": {},
   "source": [
    "Ans. With the help of the group() method we get the actual strings that match the pattern."
   ]
  },
  {
   "cell_type": "code",
   "execution_count": 24,
   "id": "1d3f2f28",
   "metadata": {},
   "outputs": [
    {
     "name": "stdout",
     "output_type": "stream",
     "text": [
      "Phone number found: 415-555-6666\n"
     ]
    }
   ],
   "source": [
    "phonenum = re.compile(r'\\d\\d\\d-\\d\\d\\d-\\d\\d\\d\\d')\n",
    "mo = phonenum.search('My number is 415-555-6666')\n",
    "print('Phone number found: ' + mo.group())"
   ]
  },
  {
   "cell_type": "markdown",
   "id": "a0aa2790",
   "metadata": {},
   "source": [
    "5. In the regex which created from the r'(\\d\\d\\d)-(\\d\\d\\d-\\d\\d\\d\\d)', what does group zero cover? Group 2? Group 1?"
   ]
  },
  {
   "cell_type": "markdown",
   "id": "7964a814",
   "metadata": {},
   "source": [
    "Ans. In the regex, group zero covers the entire match, group 1 covers the first set of parentheses and group 2 covers the second set of parentheses."
   ]
  },
  {
   "cell_type": "code",
   "execution_count": 21,
   "id": "8b725b7f",
   "metadata": {},
   "outputs": [
    {
     "name": "stdout",
     "output_type": "stream",
     "text": [
      "Phone number found: 415-555-6666\n"
     ]
    }
   ],
   "source": [
    "phonenum = re.compile(r'(\\d\\d\\d)-(\\d\\d\\d-\\d\\d\\d\\d)')\n",
    "mo = phonenum.search('My number is 415-555-6666')\n",
    "print('Phone number found: ' + mo.group(0))"
   ]
  },
  {
   "cell_type": "code",
   "execution_count": 22,
   "id": "947d756f",
   "metadata": {},
   "outputs": [
    {
     "name": "stdout",
     "output_type": "stream",
     "text": [
      "Phone number found: 415\n"
     ]
    }
   ],
   "source": [
    "phonenum = re.compile(r'(\\d\\d\\d)-(\\d\\d\\d-\\d\\d\\d\\d)')\n",
    "mo = phonenum.search('My number is 415-555-6666')\n",
    "print('Phone number found: ' + mo.group(1))"
   ]
  },
  {
   "cell_type": "code",
   "execution_count": 23,
   "id": "a749ff2b",
   "metadata": {},
   "outputs": [
    {
     "name": "stdout",
     "output_type": "stream",
     "text": [
      "Phone number found: 555-6666\n"
     ]
    }
   ],
   "source": [
    "phonenum = re.compile(r'(\\d\\d\\d)-(\\d\\d\\d-\\d\\d\\d\\d)')\n",
    "mo = phonenum.search('My number is 415-555-6666')\n",
    "print('Phone number found: ' + mo.group(2))"
   ]
  },
  {
   "cell_type": "markdown",
   "id": "6b006e84",
   "metadata": {},
   "source": [
    "6. In standard expression syntax, parentheses and intervals have distinct meanings. How can you tell a regex that you want it to fit real parentheses and periods?"
   ]
  },
  {
   "cell_type": "markdown",
   "id": "34e4865e",
   "metadata": {},
   "source": [
    "Ans. Periods and parentheses can be escaped with a backlash: *\\*. , *\\*(, and *\\*)."
   ]
  },
  {
   "cell_type": "markdown",
   "id": "df3d499a",
   "metadata": {},
   "source": [
    "7. The findall() method returns a string list or a list of string tuples. What causes it to return one of the two options?"
   ]
  },
  {
   "cell_type": "markdown",
   "id": "0cb320ed",
   "metadata": {},
   "source": [
    "Ans. Because of groups, if the regex has no groups then a list of strings is returned but if the regex has groups then a list of strings tuples is returned."
   ]
  },
  {
   "cell_type": "markdown",
   "id": "1a985cc4",
   "metadata": {},
   "source": [
    "8. In standard expressions, what does the | character mean?"
   ]
  },
  {
   "cell_type": "markdown",
   "id": "4790944e",
   "metadata": {},
   "source": [
    "Ans. In standard expressions, the | character signifies matching \"either, or\" between two groups."
   ]
  },
  {
   "cell_type": "code",
   "execution_count": 35,
   "id": "dbb40842",
   "metadata": {},
   "outputs": [
    {
     "name": "stdout",
     "output_type": "stream",
     "text": [
      "['4', 'four']\n"
     ]
    }
   ],
   "source": [
    "import re\n",
    "Sub = 'I have 4 mangoes and I have eaten four mangoes'\n",
    "go = re.findall(r'(four|4)',Sub)\n",
    "print(go)"
   ]
  },
  {
   "cell_type": "markdown",
   "id": "dc6ca3aa",
   "metadata": {},
   "source": [
    "9. In regular expressions, what does the character stand for?"
   ]
  },
  {
   "cell_type": "markdown",
   "id": "4cce738f",
   "metadata": {},
   "source": [
    "Ans. Which character? Character not mentioned here."
   ]
  },
  {
   "cell_type": "markdown",
   "id": "90bf41f0",
   "metadata": {},
   "source": [
    "10.In regular expressions, what is the difference between the + and * characters?"
   ]
  },
  {
   "cell_type": "markdown",
   "id": "61ae7626",
   "metadata": {},
   "source": [
    "Ans. In regex, the *+* character matches one or more repetitions and the * character matches zero or more repetitions."
   ]
  },
  {
   "cell_type": "code",
   "execution_count": 54,
   "id": "7faa71fb",
   "metadata": {},
   "outputs": [
    {
     "name": "stdout",
     "output_type": "stream",
     "text": [
      "['123', '12']\n"
     ]
    }
   ],
   "source": [
    "import re\n",
    "s = '123,3,12'\n",
    "m = re.findall(r'\\d\\d+',s)\n",
    "print(m)"
   ]
  },
  {
   "cell_type": "code",
   "execution_count": 61,
   "id": "96fb1d49",
   "metadata": {},
   "outputs": [
    {
     "name": "stdout",
     "output_type": "stream",
     "text": [
      "['123', '12', '3']\n"
     ]
    }
   ],
   "source": [
    "import re\n",
    "s = '123,12,3'\n",
    "m = re.findall(r'\\d\\d*',s)\n",
    "print(m)"
   ]
  },
  {
   "cell_type": "markdown",
   "id": "ce677689",
   "metadata": {},
   "source": [
    "11. What is the difference between {4} and {4,5} in regular expression?"
   ]
  },
  {
   "cell_type": "markdown",
   "id": "c207c59e",
   "metadata": {},
   "source": [
    "Ans. The {4} matches exactly four instances of the preceding group and the {4,5} matches between four and five instances."
   ]
  },
  {
   "cell_type": "markdown",
   "id": "5822992b",
   "metadata": {},
   "source": [
    "12. What do you mean by the \\d, \\w, and \\s shorthand character classes signify in regular expressions?"
   ]
  },
  {
   "cell_type": "markdown",
   "id": "8602c69b",
   "metadata": {},
   "source": [
    "Ans. The \\d , \\w  and \\s shorthand character signifies a single digit , alphanumeric , and space character, respectively. "
   ]
  },
  {
   "cell_type": "markdown",
   "id": "2b7b5bdd",
   "metadata": {},
   "source": [
    "13. What do means by \\D, \\W, and \\S shorthand character classes signify in regular expressions?"
   ]
  },
  {
   "cell_type": "markdown",
   "id": "9b9a1978",
   "metadata": {},
   "source": [
    "Ans. The \\D, \\W, and \\S shorthand character classes signifies a single character that is not a digit, alphanumeric, and space character,respectively."
   ]
  },
  {
   "cell_type": "markdown",
   "id": "2e6f8f44",
   "metadata": {},
   "source": [
    " 14. What is the difference between .*? and . *       ?"
   ]
  },
  {
   "cell_type": "markdown",
   "id": "76616967",
   "metadata": {},
   "source": [
    "Ans. The .* performs a greedy match, and the .*? performs a nongreedy match."
   ]
  },
  {
   "cell_type": "code",
   "execution_count": 74,
   "id": "c0765333",
   "metadata": {},
   "outputs": [
    {
     "name": "stdout",
     "output_type": "stream",
     "text": [
      "['123,12,3,467']\n"
     ]
    }
   ],
   "source": [
    "import re\n",
    "s = '123,12,3,467'\n",
    "m = re.findall(r'\\d\\d.*',s)\n",
    "print(m)"
   ]
  },
  {
   "cell_type": "code",
   "execution_count": 75,
   "id": "305ea5c0",
   "metadata": {},
   "outputs": [
    {
     "name": "stdout",
     "output_type": "stream",
     "text": [
      "['12', '12', '46']\n"
     ]
    }
   ],
   "source": [
    "import re\n",
    "s = '123,12,3,467'\n",
    "m = re.findall(r'\\d\\d.*?',s)\n",
    "print(m)"
   ]
  },
  {
   "cell_type": "markdown",
   "id": "27adfe78",
   "metadata": {},
   "source": [
    "15. What is the syntax for matching both numbers and lowercase letters with a character class?"
   ]
  },
  {
   "cell_type": "markdown",
   "id": "014744eb",
   "metadata": {},
   "source": [
    "Ans. Either [0-9a-z] or [a-z0-9]"
   ]
  },
  {
   "cell_type": "code",
   "execution_count": 83,
   "id": "8151f28e",
   "metadata": {},
   "outputs": [
    {
     "name": "stdout",
     "output_type": "stream",
     "text": [
      "['y', 'n', 'a', 'm', 'e', 'i', 's', 'o', 's', 'h', 'a', 'n', 'a', 'n', 'd', 'a', 'm', '2', '2', 'y', 'e', 'a', 'r', 's', 'o', 'l', 'd']\n"
     ]
    }
   ],
   "source": [
    "import re\n",
    "s = 'My name is Roshan and I am 22 years old'\n",
    "m = re.findall(r'[0-9a-z]',s)\n",
    "print(m)"
   ]
  },
  {
   "cell_type": "markdown",
   "id": "0f3543f5",
   "metadata": {},
   "source": [
    "16. What is the procedure for making a normal expression in regax case insensitive?"
   ]
  },
  {
   "cell_type": "markdown",
   "id": "8c4007f3",
   "metadata": {},
   "source": [
    "Ans. Passing re.I or re.IGNORECASE as the second argument to re.compile() will make the matching case insensitive."
   ]
  },
  {
   "cell_type": "code",
   "execution_count": 87,
   "id": "5a474b82",
   "metadata": {},
   "outputs": [
    {
     "name": "stdout",
     "output_type": "stream",
     "text": [
      "<re.Match object; span=(19, 25), match='string'>\n"
     ]
    }
   ],
   "source": [
    "import re\n",
    "Substring = \"string\"\n",
    "String1 = \"Regex is useful of string matching\"\n",
    "srt = re.search(r'(String)',String1,re.IGNORECASE)\n",
    "print(srt)"
   ]
  },
  {
   "cell_type": "markdown",
   "id": "d8532fc2",
   "metadata": {},
   "source": [
    "17. What does the . character normally match? What does it match if re.DOTALL is passed as 2nd argument in re.compile()?"
   ]
  },
  {
   "cell_type": "markdown",
   "id": "e1ab5cc8",
   "metadata": {},
   "source": [
    "Ans. The . character normally matches any character except the newline character. If re.DOTALL is passed as second argument in re.compile() then the dot will also match newline characters."
   ]
  },
  {
   "cell_type": "code",
   "execution_count": 27,
   "id": "45d66fba",
   "metadata": {},
   "outputs": [
    {
     "data": {
      "text/plain": [
       "['cat', 'hat', 'sat', 'lat', 'mat']"
      ]
     },
     "execution_count": 27,
     "metadata": {},
     "output_type": "execute_result"
    }
   ],
   "source": [
    "import re\n",
    "\n",
    "regex = re.compile(r'.at')\n",
    "regex.findall('the cat in the hat sat on the flat mat')"
   ]
  },
  {
   "cell_type": "code",
   "execution_count": 28,
   "id": "0d2ac1c3",
   "metadata": {},
   "outputs": [
    {
     "data": {
      "text/plain": [
       "'Hello ineuron.\\nI am Roshan.'"
      ]
     },
     "execution_count": 28,
     "metadata": {},
     "output_type": "execute_result"
    }
   ],
   "source": [
    "import re\n",
    "\n",
    "regex = re.compile(r'.*',re.DOTALL)\n",
    "regex.search('Hello ineuron.\\nI am Roshan.').group()"
   ]
  },
  {
   "cell_type": "markdown",
   "id": "70a6d800",
   "metadata": {},
   "source": [
    "18. If numReg = re.compile(r'\\d+'), what will numRegex.sub('X', '11 drummers, 10 pipers, five rings, 4 hen') return?"
   ]
  },
  {
   "cell_type": "markdown",
   "id": "40202d6b",
   "metadata": {},
   "source": [
    "Ans. 'X drummers, X pipers, five rings, X hens'."
   ]
  },
  {
   "cell_type": "code",
   "execution_count": 31,
   "id": "3602a6e5",
   "metadata": {},
   "outputs": [
    {
     "data": {
      "text/plain": [
       "'X drummers, X pipers, five rings, X hen'"
      ]
     },
     "execution_count": 31,
     "metadata": {},
     "output_type": "execute_result"
    }
   ],
   "source": [
    "numReg = re.compile(r'\\d+')\n",
    "numReg.sub('X', '11 drummers, 10 pipers, five rings, 4 hen')"
   ]
  },
  {
   "cell_type": "markdown",
   "id": "c862d5de",
   "metadata": {},
   "source": [
    "19. What does passing re.VERBOSE as the 2nd argument to re.compile() allow to do?"
   ]
  },
  {
   "cell_type": "markdown",
   "id": "42004276",
   "metadata": {},
   "source": [
    "Ans. The re.VERBOSE as the second argument allows to add whitespace and comments to the string passed to re.compile()."
   ]
  },
  {
   "cell_type": "markdown",
   "id": "85ef3024",
   "metadata": {},
   "source": [
    "20. How would you write a regex that match a number with comma for every three digits? It must match the given following:\n",
    "\n",
    "\n",
    "'42'\n",
    "\n",
    "'1,234'\n",
    "\n",
    "'6,368,745'\n",
    "\n",
    "but not the following:\n",
    "\n",
    "'12,34,567' (which has only two digits between the commas)\n",
    "\n",
    "'1234' (which lacks commas)\n"
   ]
  },
  {
   "cell_type": "markdown",
   "id": "c1ddfe61",
   "metadata": {},
   "source": [
    "Ans. e.compile(r'^\\d{1,3}(,{3})*$') will create this regex , but other regex strings can produce a similar regular expression."
   ]
  },
  {
   "cell_type": "code",
   "execution_count": 35,
   "id": "7722649b",
   "metadata": {},
   "outputs": [
    {
     "name": "stdout",
     "output_type": "stream",
     "text": [
      "<re.Match object; span=(0, 2), match='42'>\n"
     ]
    }
   ],
   "source": [
    "import re\n",
    "pattern = re.compile(r'^\\d{1,3}(,{3})*$')\n",
    "matches = pattern.match('42')\n",
    "print(matches)"
   ]
  },
  {
   "cell_type": "markdown",
   "id": "1fcd5ffc",
   "metadata": {},
   "source": [
    "21. How would you write a regex that matches the full name of someone whose last name is Watanabe? You can assume that the first name that comes before it will always be one word that begins with a capital letter. The regex must match the following:\n",
    "\n",
    "'Haruto Watanabe'\n",
    "\n",
    "'Alice Watanabe'\n",
    "\n",
    "'RoboCop Watanabe'\n",
    "\n",
    "but not the following:\n",
    "\n",
    "'haruto Watanabe' (where the first name is not capitalized)\n",
    "\n",
    "'Mr. Watanabe' (where the preceding word has a nonletter character)\n",
    "\n",
    "'Watanabe' (which has no first name)\n",
    "\n",
    "'Haruto watanabe' (where Watanabe is not capitalized)\n"
   ]
  },
  {
   "cell_type": "markdown",
   "id": "fc35c508",
   "metadata": {},
   "source": [
    "Ans. re.compile(r'[A-Z][a-z]*\\sWatanabe')"
   ]
  },
  {
   "cell_type": "code",
   "execution_count": 23,
   "id": "dce6d410",
   "metadata": {},
   "outputs": [
    {
     "name": "stdout",
     "output_type": "stream",
     "text": [
      "<re.Match object; span=(0, 15), match='Haruto Watanabe'>\n"
     ]
    }
   ],
   "source": [
    "import re\n",
    "pattern = re.compile(r'[A-Z][a-z]*\\sWatanabe')\n",
    "matches = pattern.match('Haruto Watanabe')\n",
    "print(matches)"
   ]
  },
  {
   "cell_type": "markdown",
   "id": "afe94001",
   "metadata": {},
   "source": [
    "22. How would you write a regex that matches a sentence where the first word is either Alice, Bob, or Carol; the second word is either eats, pets, or throws; the third word is apples, cats, or baseballs; and the sentence ends with a period? This regex should be case-insensitive. It must match the following:\n",
    "\n",
    "'Alice eats apples.'\n",
    "\n",
    "'Bob pets cats.'\n",
    "\n",
    "'Carol throws baseballs.'\n",
    "\n",
    "'Alice throws Apples.'\n",
    "\n",
    "'BOB EATS CATS.'\n",
    "\n",
    "but not the following:\n",
    "\n",
    "'RoboCop eats apples.'\n",
    "\n",
    "'ALICE THROWS FOOTBALLS.'\n",
    "\n",
    "'Carol eats 7 cats.'\n"
   ]
  },
  {
   "cell_type": "markdown",
   "id": "ec85a662",
   "metadata": {},
   "source": [
    "Ans. re.compile(r'(Alice|Bob|Carol)\\s(eats|pets|throws)\\s(apples|cats|baseballs)\\\\.',re.IGNORECASE)"
   ]
  },
  {
   "cell_type": "code",
   "execution_count": 33,
   "id": "457bbbdb",
   "metadata": {},
   "outputs": [
    {
     "name": "stdout",
     "output_type": "stream",
     "text": [
      "<re.Match object; span=(0, 18), match='Alice eats apples.'>\n"
     ]
    }
   ],
   "source": [
    "import re\n",
    "pattern = re.compile(r'(Alice|Bob|Carol)\\s(eats|pets|throws)\\s(apples|cats|baseballs)\\.',re.IGNORECASE)\n",
    "matches = pattern.match('Alice eats apples.')\n",
    "print(matches)"
   ]
  },
  {
   "cell_type": "code",
   "execution_count": null,
   "id": "79646c77",
   "metadata": {},
   "outputs": [],
   "source": []
  }
 ],
 "metadata": {
  "kernelspec": {
   "display_name": "Python 3 (ipykernel)",
   "language": "python",
   "name": "python3"
  },
  "language_info": {
   "codemirror_mode": {
    "name": "ipython",
    "version": 3
   },
   "file_extension": ".py",
   "mimetype": "text/x-python",
   "name": "python",
   "nbconvert_exporter": "python",
   "pygments_lexer": "ipython3",
   "version": "3.9.13"
  }
 },
 "nbformat": 4,
 "nbformat_minor": 5
}
