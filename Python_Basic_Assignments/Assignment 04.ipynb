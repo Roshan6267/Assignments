{
 "cells": [
  {
   "cell_type": "markdown",
   "id": "981d5b23",
   "metadata": {},
   "source": [
    "1. What exactly is []?"
   ]
  },
  {
   "cell_type": "markdown",
   "id": "af43e5f9",
   "metadata": {},
   "source": [
    "It is the empty list value, which is a list value that contains no items."
   ]
  },
  {
   "cell_type": "markdown",
   "id": "1fad466f",
   "metadata": {},
   "source": [
    "2. In a list of values stored in a variable called spam, how would you assign the value 'hello' as the third value? (Assume [2, 4, 6, 8, 10] are in spam.)"
   ]
  },
  {
   "cell_type": "markdown",
   "id": "0dbe41a1",
   "metadata": {},
   "source": [
    "spam[2] = \"hello\""
   ]
  },
  {
   "cell_type": "markdown",
   "id": "afb06f4c",
   "metadata": {},
   "source": [
    "Let's pretend the spam includes the list ['a', 'b', 'c', 'd'] for the next three queries.  \n",
    "3. What is the value of spam[int(int('3' * 2) / 11)]?\n"
   ]
  },
  {
   "cell_type": "markdown",
   "id": "ffdab228",
   "metadata": {},
   "source": [
    "'d'"
   ]
  },
  {
   "cell_type": "markdown",
   "id": "1dcf1d36",
   "metadata": {},
   "source": [
    "4. What is the value of spam[-1]?"
   ]
  },
  {
   "cell_type": "markdown",
   "id": "11f5f53f",
   "metadata": {},
   "source": [
    "'d'"
   ]
  },
  {
   "cell_type": "markdown",
   "id": "fd772bd9",
   "metadata": {},
   "source": [
    "5. What is the value of spam[:2]?"
   ]
  },
  {
   "cell_type": "markdown",
   "id": "a0fd8c48",
   "metadata": {},
   "source": [
    "['a','b']"
   ]
  },
  {
   "cell_type": "markdown",
   "id": "963b8368",
   "metadata": {},
   "source": [
    "Let's pretend bacon has the list [3.14, 'cat,' 11, 'cat,' True] for the next three questions.      \n",
    "6. What is the value of bacon.index('cat')?"
   ]
  },
  {
   "cell_type": "markdown",
   "id": "840cb692",
   "metadata": {},
   "source": [
    "1"
   ]
  },
  {
   "cell_type": "markdown",
   "id": "0ec9008f",
   "metadata": {},
   "source": [
    "7. How does bacon.append(99) change the look of the list value in bacon?"
   ]
  },
  {
   "cell_type": "markdown",
   "id": "d0d82da9",
   "metadata": {},
   "source": [
    "[3.14, 'cat,' 11, 'cat,' True, 99]"
   ]
  },
  {
   "cell_type": "markdown",
   "id": "64f56250",
   "metadata": {},
   "source": [
    "8. How does bacon.remove('cat') change the look of the list in bacon?"
   ]
  },
  {
   "cell_type": "markdown",
   "id": "4756f9ca",
   "metadata": {},
   "source": [
    "[3.14, 11, 'cat,' True]"
   ]
  },
  {
   "cell_type": "markdown",
   "id": "7c170a99",
   "metadata": {},
   "source": [
    "9. What are the list concatenation and list replication operators?"
   ]
  },
  {
   "cell_type": "markdown",
   "id": "583d7df9",
   "metadata": {},
   "source": [
    "' + ' is the list concatenation and ' * ' list replication operators."
   ]
  },
  {
   "cell_type": "markdown",
   "id": "437785bc",
   "metadata": {},
   "source": [
    "10. What is difference between the list methods append() and insert()?"
   ]
  },
  {
   "cell_type": "markdown",
   "id": "e8de4d3d",
   "metadata": {},
   "source": [
    "append() will add the item at the end of list while insert() will add the item anywhere in the list."
   ]
  },
  {
   "cell_type": "markdown",
   "id": "cb069fe6",
   "metadata": {},
   "source": [
    "11. What are the two methods for removing items from a list?"
   ]
  },
  {
   "cell_type": "markdown",
   "id": "3b56cbcd",
   "metadata": {},
   "source": [
    "del statement and remove() list are two methods for removing item from a list."
   ]
  },
  {
   "cell_type": "markdown",
   "id": "aa931203",
   "metadata": {},
   "source": [
    "12. Describe how list values and string values are identical."
   ]
  },
  {
   "cell_type": "markdown",
   "id": "95c4e4a8",
   "metadata": {},
   "source": [
    "Both strings and list have lengths: a string's length is the number of characters in the string; a list's length is the number of items in the list.Both have indices and slices.Both can be used in for loops.Both acn be used with *in* and *not in* operators."
   ]
  },
  {
   "cell_type": "markdown",
   "id": "efc5b07f",
   "metadata": {},
   "source": [
    "13. What's the difference between tuples and lists?"
   ]
  },
  {
   "cell_type": "markdown",
   "id": "8d1cba3b",
   "metadata": {},
   "source": [
    "tuples are immutable and lists are mutable.  \n",
    "tuples are written using parentheses() and lists are written using square brackets[]."
   ]
  },
  {
   "cell_type": "markdown",
   "id": "cf255a60",
   "metadata": {},
   "source": [
    "14. How do you type a tuple value that only contains the integer 42?"
   ]
  },
  {
   "cell_type": "markdown",
   "id": "d91f21a1",
   "metadata": {},
   "source": [
    "(42,)"
   ]
  },
  {
   "cell_type": "markdown",
   "id": "a158dbdf",
   "metadata": {},
   "source": [
    "15. How do you get a list value's tuple form? How do you get a tuple value's list form?"
   ]
  },
  {
   "cell_type": "markdown",
   "id": "5ecc37c7",
   "metadata": {},
   "source": [
    "with the help of tuple() we would get list value's tuple form and with the help of list()  we would get tuple value's list form."
   ]
  },
  {
   "cell_type": "markdown",
   "id": "f1a3d352",
   "metadata": {},
   "source": [
    "16. Variables that \"contain\" list values are not necessarily lists themselves. Instead, what do they contain?"
   ]
  },
  {
   "cell_type": "markdown",
   "id": "34ab4f64",
   "metadata": {},
   "source": [
    "They contain references to list values."
   ]
  },
  {
   "cell_type": "markdown",
   "id": "96fe2744",
   "metadata": {},
   "source": [
    "17. How do you distinguish between copy.copy() and copy.deepcopy()?"
   ]
  },
  {
   "cell_type": "markdown",
   "id": "6110733a",
   "metadata": {},
   "source": [
    "The copy.copy() returns a shallow copy of the list, and copy.deepcopy() returns a deep copy of the list. Only copy.deepcopy() will duplicate any lists inside the list."
   ]
  },
  {
   "cell_type": "code",
   "execution_count": null,
   "id": "3b9ff968",
   "metadata": {},
   "outputs": [],
   "source": []
  }
 ],
 "metadata": {
  "kernelspec": {
   "display_name": "Python 3 (ipykernel)",
   "language": "python",
   "name": "python3"
  },
  "language_info": {
   "codemirror_mode": {
    "name": "ipython",
    "version": 3
   },
   "file_extension": ".py",
   "mimetype": "text/x-python",
   "name": "python",
   "nbconvert_exporter": "python",
   "pygments_lexer": "ipython3",
   "version": "3.9.13"
  }
 },
 "nbformat": 4,
 "nbformat_minor": 5
}
