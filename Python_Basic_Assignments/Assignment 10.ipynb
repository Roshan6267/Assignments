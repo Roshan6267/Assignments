{
 "cells": [
  {
   "cell_type": "markdown",
   "id": "05d7f93f",
   "metadata": {},
   "source": [
    "1. How do you distinguish between shutil.copy() and shutil.copytree()?"
   ]
  },
  {
   "cell_type": "markdown",
   "id": "73ce8de6",
   "metadata": {},
   "source": [
    "Ans. The shutil.copy() function will copy a single file , while shutil.copytree() function will copy an entire folder , along with all its contents."
   ]
  },
  {
   "cell_type": "code",
   "execution_count": 1,
   "id": "a5d06b3a",
   "metadata": {},
   "outputs": [],
   "source": [
    "import os \n",
    "import shutil"
   ]
  },
  {
   "cell_type": "code",
   "execution_count": 49,
   "id": "be4f340c",
   "metadata": {},
   "outputs": [
    {
     "data": {
      "text/plain": [
       "'C:\\\\Users\\\\urosh\\\\OneDrive\\\\Documents\\\\New folder\\\\Assignment 9.ipynb'"
      ]
     },
     "execution_count": 49,
     "metadata": {},
     "output_type": "execute_result"
    }
   ],
   "source": [
    "source = r\"C:\\Users\\urosh\\Downloads\\Assignment 9.ipynb\"\n",
    "target = r\"C:\\Users\\urosh\\OneDrive\\Documents\\New folder\\Assignment 9.ipynb\"\n",
    "shutil.copy(source,target)"
   ]
  },
  {
   "cell_type": "code",
   "execution_count": 47,
   "id": "e38b2264",
   "metadata": {},
   "outputs": [
    {
     "data": {
      "text/plain": [
       "'C:\\\\Users\\\\urosh\\\\OneDrive\\\\Documents\\\\New folder\\\\review scrapper aws'"
      ]
     },
     "execution_count": 47,
     "metadata": {},
     "output_type": "execute_result"
    }
   ],
   "source": [
    "source = r\"C:\\Users\\urosh\\Downloads\\FSDS BOOTCAMP\\review scrapper aws\"\n",
    "target = r\"C:\\Users\\urosh\\OneDrive\\Documents\\New folder\\review scrapper aws\"\n",
    "shutil.copytree(source,target)"
   ]
  },
  {
   "cell_type": "markdown",
   "id": "c50c4930",
   "metadata": {},
   "source": [
    "2. What function is used to rename files??"
   ]
  },
  {
   "cell_type": "markdown",
   "id": "b76f7eaf",
   "metadata": {},
   "source": [
    "Ans. Shutil.move() function is used  to renaming files as well as moving them."
   ]
  },
  {
   "cell_type": "code",
   "execution_count": 52,
   "id": "6ca3d59c",
   "metadata": {},
   "outputs": [
    {
     "data": {
      "text/plain": [
       "'C:\\\\Users\\\\urosh\\\\Downloads\\\\Dashboard assign'"
      ]
     },
     "execution_count": 52,
     "metadata": {},
     "output_type": "execute_result"
    }
   ],
   "source": [
    "shutil.move(r\"C:\\Users\\urosh\\Downloads\\Assignment 9.ipynb\", r\"C:\\Users\\urosh\\Downloads\\Dashboard assign\")"
   ]
  },
  {
   "cell_type": "markdown",
   "id": "98f3b3ce",
   "metadata": {},
   "source": [
    "3. What is the difference between the delete functions in the send2trash and shutil modules?"
   ]
  },
  {
   "cell_type": "markdown",
   "id": "0e7676f1",
   "metadata": {},
   "source": [
    "Ans. When we apply send2trash function , it will move our files or folders in recycle bin while when we apply shutil modules , it will permanently delete our files and folders."
   ]
  },
  {
   "cell_type": "code",
   "execution_count": 2,
   "id": "333fcc04",
   "metadata": {},
   "outputs": [],
   "source": [
    "import send2trash\n",
    "send2trash.send2trash(r\"C:\\Users\\urosh\\Downloads\\Dashboard assign\")"
   ]
  },
  {
   "cell_type": "code",
   "execution_count": 5,
   "id": "958926f7",
   "metadata": {},
   "outputs": [],
   "source": [
    "import shutil\n",
    "import os\n",
    "shutil.rmtree(r\"C:\\Users\\urosh\\Downloads\",\"deepak\")"
   ]
  },
  {
   "cell_type": "markdown",
   "id": "9189ace7",
   "metadata": {},
   "source": [
    "4.ZipFile objects have a close() method just like File objects’ close() method. What ZipFile method is equivalent to File objects’ open() method?"
   ]
  },
  {
   "cell_type": "markdown",
   "id": "409c21f0",
   "metadata": {},
   "source": [
    "Ans. The zipfile.Zipfile() function is equivalent to the open() function. The first argument is the filename , and the second argument is the mode to open the ZIP file in (read,write, or append)."
   ]
  },
  {
   "cell_type": "code",
   "execution_count": 16,
   "id": "0d8fd0b8",
   "metadata": {},
   "outputs": [],
   "source": [
    "import zipfile\n",
    "with zipfile.ZipFile(\"ros1.zip\",'w') as myzip:\n",
    "    myzip.write('test.txt')"
   ]
  },
  {
   "cell_type": "markdown",
   "id": "5229d348",
   "metadata": {},
   "source": [
    "5. Create a programme that searches a folder tree for files with a certain file extension (such as .pdf or .jpg). Copy these files from whatever location they are in to a new folder."
   ]
  },
  {
   "cell_type": "code",
   "execution_count": 1,
   "id": "ef52910e",
   "metadata": {},
   "outputs": [
    {
     "name": "stdout",
     "output_type": "stream",
     "text": [
      "Enter the absolute path of the source folder: C:\\Users\\urosh\\OneDrive\\Documents\n",
      "Enter the type of file to copy (such as .pdf or .jpg): .docx\n",
      "Enter the absolute path of the destination folder: C:\\Users\\urosh\\Downloads\\FSDS BOOTCAMP\n",
      "C:\\Users\\urosh\\OneDrive\\Documents\\file.pdf.docx\n",
      "C:\\Users\\urosh\\OneDrive\\Documents\\file.pdf.docx\n",
      "C:\\Users\\urosh\\OneDrive\\Documents\\GIT COMMAND.docx\n",
      "C:\\Users\\urosh\\OneDrive\\Documents\\GIT COMMAND.docx\n",
      "C:\\Users\\urosh\\OneDrive\\Documents\\roshan\\ros.docx\n",
      "C:\\Users\\urosh\\OneDrive\\Documents\\roshan\\ros.docx\n"
     ]
    }
   ],
   "source": [
    "import os, shutil\n",
    "\n",
    "sourcePath = input('Enter the absolute path of the source folder: ')\n",
    "fileExtType = input('Enter the type of file to copy (such as .pdf or .jpg): ').lower()\n",
    "destPath = input('Enter the absolute path of the destination folder: ')\n",
    "\n",
    "for foldername, subfolders, filenames in os.walk(sourcePath):\n",
    "     for filename in filenames:\n",
    "        if filename.lower().endswith(fileExtType):\n",
    "            print(foldername + '\\\\' + filename)\n",
    "            copySourcePath = os.path.join(foldername, filename)\n",
    "            print(copySourcePath)\n",
    "            shutil.copy(copySourcePath, destPath)\n",
    "        else:\n",
    "            continue"
   ]
  },
  {
   "cell_type": "code",
   "execution_count": null,
   "id": "a852400b",
   "metadata": {},
   "outputs": [],
   "source": []
  }
 ],
 "metadata": {
  "kernelspec": {
   "display_name": "Python 3 (ipykernel)",
   "language": "python",
   "name": "python3"
  },
  "language_info": {
   "codemirror_mode": {
    "name": "ipython",
    "version": 3
   },
   "file_extension": ".py",
   "mimetype": "text/x-python",
   "name": "python",
   "nbconvert_exporter": "python",
   "pygments_lexer": "ipython3",
   "version": "3.9.13"
  }
 },
 "nbformat": 4,
 "nbformat_minor": 5
}
