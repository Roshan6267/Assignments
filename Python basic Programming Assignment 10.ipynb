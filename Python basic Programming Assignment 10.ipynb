{
 "cells": [
  {
   "cell_type": "markdown",
   "id": "cf274529",
   "metadata": {},
   "source": [
    "# Python basic Programming Assignment 10"
   ]
  },
  {
   "cell_type": "markdown",
   "id": "0f0ec748",
   "metadata": {},
   "source": [
    "1.\tWrite a Python program to find sum of elements in list?"
   ]
  },
  {
   "cell_type": "code",
   "execution_count": 1,
   "id": "e734472f",
   "metadata": {},
   "outputs": [
    {
     "name": "stdout",
     "output_type": "stream",
     "text": [
      "25\n"
     ]
    }
   ],
   "source": [
    "lst = [5, 7, 9, 1, 3]\n",
    "print(sum(lst))"
   ]
  },
  {
   "cell_type": "markdown",
   "id": "984fc495",
   "metadata": {},
   "source": [
    "2.\tWrite a Python program to  Multiply all numbers in the list?"
   ]
  },
  {
   "cell_type": "code",
   "execution_count": 5,
   "id": "03c26b27",
   "metadata": {},
   "outputs": [
    {
     "name": "stdout",
     "output_type": "stream",
     "text": [
      "Product of elements in List is : 945\n"
     ]
    }
   ],
   "source": [
    "lst = [5, 7, 9, 1, 3]\n",
    "product = 1\n",
    "for i in (lst):\n",
    "    product *= i\n",
    "    \n",
    "print(\"Product of elements in List is :\",product)"
   ]
  },
  {
   "cell_type": "markdown",
   "id": "d2d03de2",
   "metadata": {},
   "source": [
    "3.\tWrite a Python program to find smallest number in a list?"
   ]
  },
  {
   "cell_type": "code",
   "execution_count": 6,
   "id": "493ae21e",
   "metadata": {},
   "outputs": [
    {
     "name": "stdout",
     "output_type": "stream",
     "text": [
      "1\n"
     ]
    }
   ],
   "source": [
    "lst = [5, 7, 9, 1, 3]\n",
    "print(min(lst))"
   ]
  },
  {
   "cell_type": "markdown",
   "id": "8b01d94c",
   "metadata": {},
   "source": [
    "4.\tWrite a Python program to find largest number in a list?"
   ]
  },
  {
   "cell_type": "code",
   "execution_count": 7,
   "id": "ee52ad9e",
   "metadata": {},
   "outputs": [
    {
     "name": "stdout",
     "output_type": "stream",
     "text": [
      "9\n"
     ]
    }
   ],
   "source": [
    "lst = [5, 7, 9, 1, 3]\n",
    "print(max(lst))"
   ]
  },
  {
   "cell_type": "markdown",
   "id": "fd6edd0b",
   "metadata": {},
   "source": [
    "5.\tWrite a Python program to find second largest number in a list?"
   ]
  },
  {
   "cell_type": "code",
   "execution_count": 3,
   "id": "b2644219",
   "metadata": {},
   "outputs": [
    {
     "name": "stdout",
     "output_type": "stream",
     "text": [
      "second largest number in the list is 7\n"
     ]
    }
   ],
   "source": [
    "lst = [5, 7, 9, 1, 3]\n",
    "lst.sort()\n",
    "print(\"second largest number in the list is\",lst[-2])"
   ]
  },
  {
   "cell_type": "markdown",
   "id": "37c8fed1",
   "metadata": {},
   "source": [
    "6.\tWrite a Python program to find N largest elements from a list?"
   ]
  },
  {
   "cell_type": "code",
   "execution_count": 4,
   "id": "a572bd61",
   "metadata": {},
   "outputs": [
    {
     "name": "stdout",
     "output_type": "stream",
     "text": [
      "Enter how many largest number you want from list:2\n",
      "the 2 largest elements from a list are [7, 9]\n"
     ]
    }
   ],
   "source": [
    "lst = [5, 7, 9, 1, 3]\n",
    "n = len(lst)\n",
    "lst.sort()\n",
    "nlar = int(input(\"Enter how many largest number you want from list:\"))\n",
    "if nlar > n:\n",
    "    print(\"not possible\")\n",
    "else:\n",
    "    print(\"the\",nlar,\"largest elements from a list are\",lst[(n-nlar):])"
   ]
  },
  {
   "cell_type": "markdown",
   "id": "366cb18a",
   "metadata": {},
   "source": [
    "7.\tWrite a Python program to print even numbers in a list?"
   ]
  },
  {
   "cell_type": "code",
   "execution_count": 5,
   "id": "cc8328f4",
   "metadata": {},
   "outputs": [
    {
     "name": "stdout",
     "output_type": "stream",
     "text": [
      "[2, 4, 6]\n"
     ]
    }
   ],
   "source": [
    "lst = [2,4,6,5, 7, 9, 1, 3]\n",
    "even = []\n",
    "for i in lst:\n",
    "    if i % 2 ==0:\n",
    "        even.append(i)\n",
    "        \n",
    "print(even)"
   ]
  },
  {
   "cell_type": "markdown",
   "id": "d9ba8dc1",
   "metadata": {},
   "source": [
    "8.\tWrite a Python program to print odd numbers in a List?"
   ]
  },
  {
   "cell_type": "code",
   "execution_count": 6,
   "id": "541570ce",
   "metadata": {},
   "outputs": [
    {
     "name": "stdout",
     "output_type": "stream",
     "text": [
      "[5, 7, 9, 1, 3]\n"
     ]
    }
   ],
   "source": [
    "lst = [2,4,6,5, 7, 9, 1, 3]\n",
    "odd = []\n",
    "for i in lst:\n",
    "    if i % 2 != 0:\n",
    "        odd.append(i)\n",
    "        \n",
    "print(odd)"
   ]
  },
  {
   "cell_type": "markdown",
   "id": "2f60ac86",
   "metadata": {},
   "source": [
    "9.\tWrite a Python program to Remove empty List from List?"
   ]
  },
  {
   "cell_type": "code",
   "execution_count": 7,
   "id": "79675d37",
   "metadata": {},
   "outputs": [
    {
     "name": "stdout",
     "output_type": "stream",
     "text": [
      "The list after removing empty lists : [55, 14, 75, 96, 80, 36]\n"
     ]
    }
   ],
   "source": [
    "lst = [55,[],14,75,[],96,80,[],36]\n",
    "new_list = [item for item in lst if item != []]\n",
    "print(\"The list after removing empty lists :\" , new_list)"
   ]
  },
  {
   "cell_type": "markdown",
   "id": "bbd48f4d",
   "metadata": {},
   "source": [
    "10.\tWrite a Python program to Cloning or Copying a list?"
   ]
  },
  {
   "cell_type": "code",
   "execution_count": 8,
   "id": "1bf3ae79",
   "metadata": {},
   "outputs": [
    {
     "name": "stdout",
     "output_type": "stream",
     "text": [
      "Cloning By list copying lst  [2, 4, 6, 5, 7, 9, 1, 3]\n"
     ]
    }
   ],
   "source": [
    "lst = [2,4,6,5, 7, 9, 1, 3]\n",
    "lst_copy = lst.copy()\n",
    "print(\"Cloning By list copying lst \",lst_copy)"
   ]
  },
  {
   "cell_type": "markdown",
   "id": "92494128",
   "metadata": {},
   "source": [
    "11.\tWrite a Python program to Count occurrences of an element in a list?"
   ]
  },
  {
   "cell_type": "code",
   "execution_count": 9,
   "id": "e726936a",
   "metadata": {},
   "outputs": [
    {
     "name": "stdout",
     "output_type": "stream",
     "text": [
      "Enter the element to find its occurance : 5\n",
      "5 has occured 1 times in the list \n"
     ]
    }
   ],
   "source": [
    "lst = [2,4,6,5, 7, 9, 1, 3]\n",
    "ele= int(input(\"Enter the element to find its occurance : \"))\n",
    "print(ele,\"has occured {} times in the list \".format(lst.count(ele)))"
   ]
  },
  {
   "cell_type": "code",
   "execution_count": null,
   "id": "505961f9",
   "metadata": {},
   "outputs": [],
   "source": []
  }
 ],
 "metadata": {
  "kernelspec": {
   "display_name": "Python 3 (ipykernel)",
   "language": "python",
   "name": "python3"
  },
  "language_info": {
   "codemirror_mode": {
    "name": "ipython",
    "version": 3
   },
   "file_extension": ".py",
   "mimetype": "text/x-python",
   "name": "python",
   "nbconvert_exporter": "python",
   "pygments_lexer": "ipython3",
   "version": "3.9.13"
  }
 },
 "nbformat": 4,
 "nbformat_minor": 5
}
