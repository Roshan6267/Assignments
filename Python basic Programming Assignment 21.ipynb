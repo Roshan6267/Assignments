{
 "cells": [
  {
   "cell_type": "markdown",
   "id": "606a8a44",
   "metadata": {},
   "source": [
    "# Python basic Programming Assignment 21"
   ]
  },
  {
   "cell_type": "markdown",
   "id": "e7bc8ab9",
   "metadata": {},
   "source": [
    ">Q. Write a function that takes a list and a number as arguments. Add the number to the end of the list, then remove the first element of the list. The function should then return the updated list. Examples next_in_line([5, 6, 7, 8, 9], 1) ➞ [6, 7, 8, 9, 1] next_in_line([7, 6, 3, 23, 17], 10) ➞ [6, 3, 23, 17, 10] next_in_line([1, 10, 20, 42 ], 6) ➞ [10, 20, 42, 6] next_in_line([], 6) ➞ 'No list has been selected'"
   ]
  },
  {
   "cell_type": "code",
   "execution_count": 7,
   "id": "9c81b675",
   "metadata": {},
   "outputs": [
    {
     "data": {
      "text/plain": [
       "[6, 7, 8, 9, 1]"
      ]
     },
     "execution_count": 7,
     "metadata": {},
     "output_type": "execute_result"
    }
   ],
   "source": [
    "def next_in_line(lst,ele):\n",
    "    if not lst:\n",
    "        print(\"No list has been selected\")\n",
    "    else:\n",
    "        del lst[0]\n",
    "        lst.append(ele)\n",
    "        \n",
    "    return lst\n",
    "\n",
    "next_in_line([5, 6, 7, 8, 9], 1)"
   ]
  },
  {
   "cell_type": "markdown",
   "id": "7b77d996",
   "metadata": {},
   "source": [
    ">Q. Create the function that takes a list of dictionaries and returns the sum of people's budgets. Examples get_budgets([ { 'name': 'John', 'age': 21, 'budget': 23000 }, { 'name': 'Steve', 'age': 32, 'budget': 40000 }, { 'name': 'Martin', 'age': 16, 'budget': 2700 } ]) ➞ 65700 get_budgets([ { 'name': 'John', 'age': 21, 'budget': 29000 }, { 'name': 'Steve', 'age': 32, 'budget': 32000 }, { 'name': 'Martin', 'age': 16, 'budget': 1600 } ]) ➞ 62600"
   ]
  },
  {
   "cell_type": "code",
   "execution_count": 8,
   "id": "49dba1ef",
   "metadata": {},
   "outputs": [],
   "source": [
    "def get_budgets(listdict):\n",
    "    sum = 0\n",
    "    for dc in listdict:\n",
    "        for k,v in dc.items():\n",
    "            if k == 'budget':\n",
    "                sum = sum + v\n",
    "    return sum\n"
   ]
  },
  {
   "cell_type": "code",
   "execution_count": 9,
   "id": "2780a63a",
   "metadata": {},
   "outputs": [
    {
     "data": {
      "text/plain": [
       "65700"
      ]
     },
     "execution_count": 9,
     "metadata": {},
     "output_type": "execute_result"
    }
   ],
   "source": [
    "get_budgets([\n",
    "{ 'name': 'John', 'age': 21, 'budget': 23000 },\n",
    "{ 'name': 'Steve', 'age': 32, 'budget': 40000 },\n",
    "{ 'name': 'Martin', 'age': 16, 'budget': 2700 }\n",
    "])\n",
    "   "
   ]
  },
  {
   "cell_type": "markdown",
   "id": "0526cedf",
   "metadata": {},
   "source": [
    ">Q. Create a function that takes a string and returns a string with its letters in alphabetical order. Examples alphabet_soup('hello') ➞ 'ehllo' alphabet_soup('edabit') ➞ 'abdeit' alphabet_soup('hacker') ➞ 'acehkr' alphabet_soup('geek') ➞ 'eegk' alphabet_soup('javascript') ➞ 'aacijprstv'"
   ]
  },
  {
   "cell_type": "code",
   "execution_count": 11,
   "id": "5512f1cd",
   "metadata": {},
   "outputs": [
    {
     "data": {
      "text/plain": [
       "'ehllo'"
      ]
     },
     "execution_count": 11,
     "metadata": {},
     "output_type": "execute_result"
    }
   ],
   "source": [
    "def alphabet_soup(str):\n",
    "    return ''.join(sorted(str))\n",
    "alphabet_soup('hello')\n"
   ]
  },
  {
   "cell_type": "markdown",
   "id": "a581d8d0",
   "metadata": {},
   "source": [
    ">Q. Suppose that you invest $10,000 for 10 years at an interest rate of 6% compounded monthly. What will be the value of your investment at the end of the 10 year period? Create a function that accepts the principal p, the term in years t, the interest rate r, and the number of compounding periods per year n. The function returns the value at the end of term rounded to the nearest cent. For the example above: compound_interest(10000, 10, 0.06, 12) ➞ 18193.97 Note that the interest rate is given as a decimal and n=12 because with monthly compounding there are 12 periods per year. Compounding can also be done annually, quarterly, weekly, or daily."
   ]
  },
  {
   "cell_type": "code",
   "execution_count": 13,
   "id": "cb457963",
   "metadata": {},
   "outputs": [
    {
     "data": {
      "text/plain": [
       "18193.97"
      ]
     },
     "execution_count": 13,
     "metadata": {},
     "output_type": "execute_result"
    }
   ],
   "source": [
    "def compound_interest(amt, years, intrest, compPeriod):\n",
    "    future_value = amt *(1 + (intrest/compPeriod)) ** (years * compPeriod)\n",
    "    return round(future_value,2)\n",
    "compound_interest(10000, 10, 0.06, 12) "
   ]
  },
  {
   "cell_type": "markdown",
   "id": "505a25d6",
   "metadata": {},
   "source": [
    ">Q. Write a function that takes a list of elements and returns only the integers. Examples return_only_integer([9, 2, 'space', 'car', 'lion', 16]) ➞ [9, 2, 16] return_only_integer(['hello', 81, 'basketball', 123, 'fox']) ➞ [81, 123] return_only_integer([10, '121', 56, 20, 'car', 3, 'lion']) ➞ [10, 56, 20, 3] return_only_integer(['String', True, 3.3, 1]) ➞ [1]"
   ]
  },
  {
   "cell_type": "code",
   "execution_count": 15,
   "id": "b4edc3cd",
   "metadata": {},
   "outputs": [
    {
     "data": {
      "text/plain": [
       "[81, 123]"
      ]
     },
     "execution_count": 15,
     "metadata": {},
     "output_type": "execute_result"
    }
   ],
   "source": [
    "def return_only_integer(lst):\n",
    "    int_list = []\n",
    "    for i in lst:\n",
    "        if type(i) == int:\n",
    "            int_list.append(i)\n",
    "    return int_list\n",
    "\n",
    "return_only_integer(['hello', 81, 'basketball', 123, 'fox']) "
   ]
  },
  {
   "cell_type": "code",
   "execution_count": null,
   "id": "47d1bdea",
   "metadata": {},
   "outputs": [],
   "source": []
  }
 ],
 "metadata": {
  "kernelspec": {
   "display_name": "Python 3 (ipykernel)",
   "language": "python",
   "name": "python3"
  },
  "language_info": {
   "codemirror_mode": {
    "name": "ipython",
    "version": 3
   },
   "file_extension": ".py",
   "mimetype": "text/x-python",
   "name": "python",
   "nbconvert_exporter": "python",
   "pygments_lexer": "ipython3",
   "version": "3.9.13"
  }
 },
 "nbformat": 4,
 "nbformat_minor": 5
}
