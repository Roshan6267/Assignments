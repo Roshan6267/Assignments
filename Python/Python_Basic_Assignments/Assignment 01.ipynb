{
 "cells": [
  {
   "cell_type": "markdown",
   "id": "fbcb33a7",
   "metadata": {},
   "source": [
    "1. In the below elements which of them are values or an expression? eg:- values can be integer or string and expressions will be mathematical operators.\n",
    "\n",
    "\n",
    "'*'\n",
    "'hello'\n",
    "-87.8\n",
    "'-'\n",
    "/ \n",
    "'+'\t\n",
    "6"
   ]
  },
  {
   "cell_type": "markdown",
   "id": "07a44295",
   "metadata": {},
   "source": [
    "Expressions: '*', '-', '/', '+'\n",
    "Vlaues: 'hello', '-87.8', '6'"
   ]
  },
  {
   "cell_type": "markdown",
   "id": "b88a8567",
   "metadata": {},
   "source": [
    "2. What is the difference between string and variable?"
   ]
  },
  {
   "cell_type": "markdown",
   "id": "3252980e",
   "metadata": {},
   "source": [
    "Variables are symbols in which, we store data and we use it in our program.String is the type of data we would store in varialble.by the help of variable, we need not to write entire information again and again, we just assign them with a variable and it would refer us the value as we want.Variables can be both immutable as well as mutable but strings are immutable, its value cannot be updated.String always start and ends with quotes."
   ]
  },
  {
   "cell_type": "markdown",
   "id": "71a590ea",
   "metadata": {},
   "source": [
    "3. Describe three different data types"
   ]
  },
  {
   "cell_type": "markdown",
   "id": "ead3ebdd",
   "metadata": {},
   "source": [
    "Int data type : It is declared with 'int' keword and its a whole number,negative or positive,without decimal numbers.It has no limit of length.\n",
    "Float data type : It is declared with 'float' keword and its a number with decimal points.It stores 64-bit double-precision floating-point numbers with up to 17 significant digits.\n",
    "Boolean data type : It is declared with 'bool' keword and it represents the truth value of an expression."
   ]
  },
  {
   "cell_type": "markdown",
   "id": "e1614b48",
   "metadata": {},
   "source": [
    "4. What is an expression made up of? What do all expressions do?"
   ]
  },
  {
   "cell_type": "markdown",
   "id": "a1dbc097",
   "metadata": {},
   "source": [
    "Expression is a combination of operands and operators.It produces some result after being interpreted by the python interpreter"
   ]
  },
  {
   "cell_type": "markdown",
   "id": "2dd3fd6b",
   "metadata": {},
   "source": [
    "5. This assignment statements, like spam = 10. What is the difference between an expression and a statement?"
   ]
  },
  {
   "cell_type": "markdown",
   "id": "7f1d29bb",
   "metadata": {},
   "source": [
    "Statement is group of expression and an expression always produces some value or result but statement is an instruction that the python interpreter can execute.Statement cannot gives you value.Statement are whole structure ,while expression are the building blocks.In above example, 'spam = 10' is statement and '10' is an expression."
   ]
  },
  {
   "cell_type": "markdown",
   "id": "711f7713",
   "metadata": {},
   "source": [
    "6. After running the following code, what does the variable bacon contain?\n",
    "bacon = 22\n",
    "bacon + 1"
   ]
  },
  {
   "cell_type": "markdown",
   "id": "3dd2391f",
   "metadata": {},
   "source": [
    "bacon contain 22 because 'bacon + 1' does not reassign the value in bacon that's why bacon will contain 22."
   ]
  },
  {
   "cell_type": "markdown",
   "id": "f394979a",
   "metadata": {},
   "source": [
    "7. What should the values of the following two terms be?\n",
    "'spam' + 'spamspam'\n",
    "'spam' * 3"
   ]
  },
  {
   "cell_type": "markdown",
   "id": "e0e0d6bd",
   "metadata": {},
   "source": [
    "'spamspamspam'\n",
    "'spamspamspam'"
   ]
  },
  {
   "cell_type": "code",
   "execution_count": 1,
   "id": "130e5aba",
   "metadata": {},
   "outputs": [
    {
     "data": {
      "text/plain": [
       "'spamspamspam'"
      ]
     },
     "execution_count": 1,
     "metadata": {},
     "output_type": "execute_result"
    }
   ],
   "source": [
    "'spam' + 'spamspam'\n",
    "'spam' * 3"
   ]
  },
  {
   "cell_type": "markdown",
   "id": "89ec36fb",
   "metadata": {},
   "source": [
    "8. Why is eggs a valid variable name while 100 is invalid?"
   ]
  },
  {
   "cell_type": "markdown",
   "id": "1c41aa09",
   "metadata": {},
   "source": [
    "because variable name cannot begin with a number."
   ]
  },
  {
   "cell_type": "markdown",
   "id": "b8f71c34",
   "metadata": {},
   "source": [
    "9. What three functions can be used to get the integer, floating-point number, or string version of a value?"
   ]
  },
  {
   "cell_type": "markdown",
   "id": "e35b4222",
   "metadata": {},
   "source": [
    "integer = int()\n",
    "floating-point number = float()\n",
    "string = str()"
   ]
  },
  {
   "cell_type": "markdown",
   "id": "0125f7ad",
   "metadata": {},
   "source": [
    "10. Why does this expression cause an error? How can you fix it?\n",
    "'I have eaten ' + 99 + ' burritos.'"
   ]
  },
  {
   "cell_type": "markdown",
   "id": "bf45b167",
   "metadata": {},
   "source": [
    "It shows type error because in the statement there is an integer and string only can convatenated to other strings with + operator, to fix it we convert int to string."
   ]
  },
  {
   "cell_type": "code",
   "execution_count": 19,
   "id": "a4e1e129",
   "metadata": {},
   "outputs": [
    {
     "data": {
      "text/plain": [
       "'I have eaten 99 burritos.'"
      ]
     },
     "execution_count": 19,
     "metadata": {},
     "output_type": "execute_result"
    }
   ],
   "source": [
    "'I have eaten ' + str(99) + ' burritos.'"
   ]
  }
 ],
 "metadata": {
  "kernelspec": {
   "display_name": "Python 3 (ipykernel)",
   "language": "python",
   "name": "python3"
  },
  "language_info": {
   "codemirror_mode": {
    "name": "ipython",
    "version": 3
   },
   "file_extension": ".py",
   "mimetype": "text/x-python",
   "name": "python",
   "nbconvert_exporter": "python",
   "pygments_lexer": "ipython3",
   "version": "3.9.13"
  }
 },
 "nbformat": 4,
 "nbformat_minor": 5
}
