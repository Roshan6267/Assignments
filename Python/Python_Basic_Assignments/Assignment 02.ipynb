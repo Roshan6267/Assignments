{
 "cells": [
  {
   "cell_type": "markdown",
   "id": "c5e61033",
   "metadata": {},
   "source": [
    "1.What are the two values of the Boolean data type? How do you write them?"
   ]
  },
  {
   "cell_type": "markdown",
   "id": "fab69a00",
   "metadata": {},
   "source": [
    "True and False. We write them using first letter in capital, T and F, and rest of word are in small."
   ]
  },
  {
   "cell_type": "markdown",
   "id": "3dc63f95",
   "metadata": {},
   "source": [
    "2. What are the three different types of Boolean operators?"
   ]
  },
  {
   "cell_type": "markdown",
   "id": "8fa71fa0",
   "metadata": {},
   "source": [
    "'and', 'or' and 'not' are three different data types of boolean opertors."
   ]
  },
  {
   "cell_type": "markdown",
   "id": "09443604",
   "metadata": {},
   "source": [
    "3. Make a list of each Boolean operator's truth tables (i.e. every possible combination of Boolean values for the operator and what it evaluate )."
   ]
  },
  {
   "cell_type": "markdown",
   "id": "81f1261e",
   "metadata": {},
   "source": [
    "truth table for 'or' operator:  \n",
    "True or False = True  \n",
    "False or True = True  \n",
    "True or True = True  \n",
    "False or False = False  \n",
    "\n",
    "truth table for 'and' operator:  \n",
    "True and False = False  \n",
    "False and True = False  \n",
    "False and False = False  \n",
    "True and True = True  \n",
    "\n",
    "truth table for 'not' operator:  \n",
    "not False = True  \n",
    "not True = False  "
   ]
  },
  {
   "cell_type": "markdown",
   "id": "14ca50ca",
   "metadata": {},
   "source": [
    "4. What are the values of the following expressions?  \n",
    "(5 > 4) and (3 == 5)  \n",
    "not (5 > 4)  \n",
    "(5 > 4) or (3 == 5)  \n",
    "not ((5 > 4) or (3 == 5))  \n",
    "(True and True) and (True == False)  \n",
    "(not False) or (not True)  \n"
   ]
  },
  {
   "cell_type": "markdown",
   "id": "e486e2b6",
   "metadata": {},
   "source": [
    "False  \n",
    "False  \n",
    "True  \n",
    "False  \n",
    "False  \n",
    "True  "
   ]
  },
  {
   "cell_type": "markdown",
   "id": "84ffca1e",
   "metadata": {},
   "source": [
    "5. What are the six comparison operators?"
   ]
  },
  {
   "cell_type": "markdown",
   "id": "235b62b6",
   "metadata": {},
   "source": [
    "'>',  '<',  '==',  '!=',  '=>'   and   '<='"
   ]
  },
  {
   "cell_type": "markdown",
   "id": "8d5a3e52",
   "metadata": {},
   "source": [
    "6. How do you tell the difference between the equal to and assignment operators?Describe a condition and when you would use one."
   ]
  },
  {
   "cell_type": "markdown",
   "id": "b3859ea9",
   "metadata": {},
   "source": [
    "The '=' is an assignment operator used to assign the value on the right to the variable on the left.  \n",
    "eg: A = 10.  \n",
    "The '==' is relational or comparison operator, it checks whether the two given operands are equal or not. If so, it returns true otherwise flase.  \n",
    "eg: 5==5  \n",
    "this will return true."
   ]
  },
  {
   "cell_type": "markdown",
   "id": "ba6232ac",
   "metadata": {},
   "source": [
    "7. Identify the three blocks in this code:  \n",
    "spam = 0  \n",
    "if spam == 10:  \n",
    "print('eggs')  \n",
    "if spam > 5:  \n",
    "print('bacon')  \n",
    "else:  \n",
    "print('ham')  \n",
    "print('spam')  \n",
    "print('spam')  "
   ]
  },
  {
   "cell_type": "markdown",
   "id": "9df7c5d0",
   "metadata": {},
   "source": [
    "**The three blocks are inside everything the if statements and else statement**  \n",
    "spam = 0  \n",
    "if spam == 10:  \n",
    "  >print('eggs')   \n",
    "  \n",
    "if spam > 5:\n",
    "  >print('bacon')  \n",
    "\n",
    "else:  \n",
    "  >print('ham')  \n",
    "  \n",
    "print('spam')  \n",
    "print('spam')  "
   ]
  },
  {
   "cell_type": "markdown",
   "id": "6034076a",
   "metadata": {},
   "source": [
    "8. Write code that prints Hello if 1 is stored in spam, prints Howdy if 2 is stored in spam, and prints Greetings! if anything else is stored in spam."
   ]
  },
  {
   "cell_type": "code",
   "execution_count": 10,
   "id": "98d36d19",
   "metadata": {},
   "outputs": [
    {
     "name": "stdout",
     "output_type": "stream",
     "text": [
      "Greetings!\n"
     ]
    }
   ],
   "source": [
    "spam = 3\n",
    "if spam == 1:\n",
    "    print(\"Hello\")\n",
    "elif spam == 2:\n",
    "    print(\"Howdy\")\n",
    "else:\n",
    "    print(\"Greetings!\")"
   ]
  },
  {
   "cell_type": "markdown",
   "id": "5107402e",
   "metadata": {},
   "source": [
    "9.If your programme is stuck in an endless loop, what keys you’ll press?"
   ]
  },
  {
   "cell_type": "markdown",
   "id": "3cf169e7",
   "metadata": {},
   "source": [
    "press CTRL-C to stop a program stuck in endless loop."
   ]
  },
  {
   "cell_type": "markdown",
   "id": "a6bca247",
   "metadata": {},
   "source": [
    "10. How can you tell the difference between break and continue?"
   ]
  },
  {
   "cell_type": "markdown",
   "id": "aeb8e11e",
   "metadata": {},
   "source": [
    "break keyword terminates the execution of the current loop and passes the control over the next loop or main body when specified condition is met, whereas continue keyword skips the current iteration and executes the very next iteration in the loop."
   ]
  },
  {
   "cell_type": "markdown",
   "id": "8ee9241a",
   "metadata": {},
   "source": [
    " 11. In a for loop, what is the difference between range(10), range(0, 10), and range(0, 10, 1)?"
   ]
  },
  {
   "cell_type": "markdown",
   "id": "05ae3477",
   "metadata": {},
   "source": [
    "They all do same thing.  \n",
    "in range(10) tells ranges from 0 up to 10 but it will not include 10.  \n",
    "in range(0,10) tells that it would start at 0 and it will not include 10 too.  \n",
    "in range(0,10,1) tells that in loop it would increase the variable by 1 in each iteration it will not include 10 too. "
   ]
  },
  {
   "cell_type": "markdown",
   "id": "6062517f",
   "metadata": {},
   "source": [
    "12. Write a short program that prints the numbers 1 to 10 using a for loop. Then write an equivalent program that prints the numbers 1 to 10 using a while loop."
   ]
  },
  {
   "cell_type": "markdown",
   "id": "5256204f",
   "metadata": {},
   "source": [
    "for i in range(1,11):\n",
    ">print(i)  \n",
    "\n",
    "**and**  \n",
    "\n",
    "i = 1\n",
    "while i < 11:\n",
    ">print(i)\n",
    ">i = i+1"
   ]
  },
  {
   "cell_type": "markdown",
   "id": "b414a47d",
   "metadata": {},
   "source": [
    "13. If you had a function named bacon() inside a module named spam, how would you call it after importing spam?"
   ]
  },
  {
   "cell_type": "markdown",
   "id": "5067035f",
   "metadata": {},
   "source": [
    "This function can be called with spam.bacon()."
   ]
  },
  {
   "cell_type": "code",
   "execution_count": null,
   "id": "73b8c000",
   "metadata": {},
   "outputs": [],
   "source": []
  }
 ],
 "metadata": {
  "kernelspec": {
   "display_name": "Python 3 (ipykernel)",
   "language": "python",
   "name": "python3"
  },
  "language_info": {
   "codemirror_mode": {
    "name": "ipython",
    "version": 3
   },
   "file_extension": ".py",
   "mimetype": "text/x-python",
   "name": "python",
   "nbconvert_exporter": "python",
   "pygments_lexer": "ipython3",
   "version": "3.9.13"
  }
 },
 "nbformat": 4,
 "nbformat_minor": 5
}
