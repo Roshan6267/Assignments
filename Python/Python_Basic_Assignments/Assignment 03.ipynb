{
 "cells": [
  {
   "cell_type": "markdown",
   "id": "5ae76ee1",
   "metadata": {},
   "source": [
    "1. Why are functions advantageous to have in your programs?"
   ]
  },
  {
   "cell_type": "markdown",
   "id": "dba3d24e",
   "metadata": {},
   "source": [
    "By the help of function we need not to write same logic or code again and again in our programe.  \n",
    "In a single programe, we can call python function anywhere and also call multiple times.  \n",
    "It's reusable and it makes programe shorter."
   ]
  },
  {
   "cell_type": "markdown",
   "id": "ab54d61c",
   "metadata": {},
   "source": [
    "2. When does the code in a function run: when it's specified or when it's called?"
   ]
  },
  {
   "cell_type": "markdown",
   "id": "56fcf2ca",
   "metadata": {},
   "source": [
    "The code in function only runs when it is called."
   ]
  },
  {
   "cell_type": "markdown",
   "id": "cfa8c031",
   "metadata": {},
   "source": [
    "3. What statement creates a function?"
   ]
  },
  {
   "cell_type": "markdown",
   "id": "a589394d",
   "metadata": {},
   "source": [
    "We use def keyword then write the function name followed by parentheses and colon to create a function."
   ]
  },
  {
   "cell_type": "markdown",
   "id": "94d5787b",
   "metadata": {},
   "source": [
    "4. What is the difference between a function and a function call?"
   ]
  },
  {
   "cell_type": "markdown",
   "id": "fe74f401",
   "metadata": {},
   "source": [
    "A function is piece of code, it contains def statement and we can pass parameter into in it.It only executes when it's be called.  \n",
    "Function call is what executes the entire program and gives us result, in it we don't write entire code again, we just name the function followed by parentheses and it evaluates to the function's return value."
   ]
  },
  {
   "cell_type": "markdown",
   "id": "3631bc20",
   "metadata": {},
   "source": [
    "5. How many global scopes are there in a Python program? How many local scopes?"
   ]
  },
  {
   "cell_type": "markdown",
   "id": "3208d5ed",
   "metadata": {},
   "source": [
    "There is only one global scope and one local scope is created whenever the function is called."
   ]
  },
  {
   "cell_type": "markdown",
   "id": "b914f2fa",
   "metadata": {},
   "source": [
    "6. What happens to variables in a local scope when the function call returns?"
   ]
  },
  {
   "cell_type": "markdown",
   "id": "c67cab3d",
   "metadata": {},
   "source": [
    "Each call of the function creates new local variables, and their lifetimes expire when the function returns to the caller.All the variables in it are forgotten."
   ]
  },
  {
   "cell_type": "markdown",
   "id": "8e31c419",
   "metadata": {},
   "source": [
    "7. What is the concept of a return value? Is it possible to have a return value in an expression?"
   ]
  },
  {
   "cell_type": "markdown",
   "id": "8be3c5d5",
   "metadata": {},
   "source": [
    "A return value is value that function returns us when we call it.  \n",
    "Yes,it is possible to have a return value in an expression."
   ]
  },
  {
   "cell_type": "markdown",
   "id": "0e544f83",
   "metadata": {},
   "source": [
    "8. If a function does not have a return statement, what is the return value of a call to that function?"
   ]
  },
  {
   "cell_type": "markdown",
   "id": "5164a7d6",
   "metadata": {},
   "source": [
    "If a function does not have a return statement, it returns us **None**."
   ]
  },
  {
   "cell_type": "markdown",
   "id": "6d0616ef",
   "metadata": {},
   "source": [
    "9. How do you make a function variable refer to the global variable?"
   ]
  },
  {
   "cell_type": "markdown",
   "id": "c3583534",
   "metadata": {},
   "source": [
    "A global keyword will force a variable in a function to refer to the global variable."
   ]
  },
  {
   "cell_type": "markdown",
   "id": "b3564fdd",
   "metadata": {},
   "source": [
    "10. What is the data type of None?"
   ]
  },
  {
   "cell_type": "markdown",
   "id": "77fe5d3c",
   "metadata": {},
   "source": [
    "The data type of None is **NoneType**"
   ]
  },
  {
   "cell_type": "markdown",
   "id": "d5e3af19",
   "metadata": {},
   "source": [
    "11. What does the sentence import areallyourpetsnamederic do?"
   ]
  },
  {
   "cell_type": "markdown",
   "id": "c54a3199",
   "metadata": {},
   "source": [
    "That import statement imports a module named areallyourpetsnamederic."
   ]
  },
  {
   "cell_type": "markdown",
   "id": "090bb198",
   "metadata": {},
   "source": [
    "12. If you had a bacon() feature in a spam module, what would you call it after importing spam?"
   ]
  },
  {
   "cell_type": "markdown",
   "id": "ed867605",
   "metadata": {},
   "source": [
    "This function can be called with spam.bacon()."
   ]
  },
  {
   "cell_type": "markdown",
   "id": "430880ca",
   "metadata": {},
   "source": [
    "13. What can you do to save a programme from crashing if it encounters an error?"
   ]
  },
  {
   "cell_type": "markdown",
   "id": "6976bc6f",
   "metadata": {},
   "source": [
    "We use try-catch clause.To place the code that gives us error in try clause."
   ]
  },
  {
   "cell_type": "markdown",
   "id": "a3c7ae42",
   "metadata": {},
   "source": [
    "14. What is the purpose of the try clause? What is the purpose of the except clause?"
   ]
  },
  {
   "cell_type": "markdown",
   "id": "8febcd1d",
   "metadata": {},
   "source": [
    "The try clause contains the code that may raise exceptions or errors.  \n",
    "The except clause is used to catch the exceptions and handle them."
   ]
  },
  {
   "cell_type": "code",
   "execution_count": null,
   "id": "bc5fbf92",
   "metadata": {},
   "outputs": [],
   "source": []
  }
 ],
 "metadata": {
  "kernelspec": {
   "display_name": "Python 3 (ipykernel)",
   "language": "python",
   "name": "python3"
  },
  "language_info": {
   "codemirror_mode": {
    "name": "ipython",
    "version": 3
   },
   "file_extension": ".py",
   "mimetype": "text/x-python",
   "name": "python",
   "nbconvert_exporter": "python",
   "pygments_lexer": "ipython3",
   "version": "3.9.13"
  }
 },
 "nbformat": 4,
 "nbformat_minor": 5
}
