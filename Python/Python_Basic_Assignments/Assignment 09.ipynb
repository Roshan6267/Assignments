{
 "cells": [
  {
   "cell_type": "markdown",
   "id": "f75a851f",
   "metadata": {},
   "source": [
    "1. To what does a relative path refer?"
   ]
  },
  {
   "cell_type": "markdown",
   "id": "d1ee39ae",
   "metadata": {},
   "source": [
    "Ans. Relative paths are relative to the current working directory(cwd)."
   ]
  },
  {
   "cell_type": "markdown",
   "id": "a290c007",
   "metadata": {},
   "source": [
    "2. What does an absolute path start with your operating system?"
   ]
  },
  {
   "cell_type": "markdown",
   "id": "57dccee5",
   "metadata": {},
   "source": [
    "Ans. Absolute path always starts with the absolute start of actual filesystem from directory, such as */* or *C:\\*  ."
   ]
  },
  {
   "cell_type": "code",
   "execution_count": 10,
   "id": "a2035ac5",
   "metadata": {},
   "outputs": [
    {
     "data": {
      "text/plain": [
       "'C:\\\\Users\\\\urosh'"
      ]
     },
     "execution_count": 10,
     "metadata": {},
     "output_type": "execute_result"
    }
   ],
   "source": [
    "import os\n",
    "os.getcwd()"
   ]
  },
  {
   "cell_type": "markdown",
   "id": "993ccd72",
   "metadata": {},
   "source": [
    "3. What do the functions os.getcwd() and os.chdir() do?"
   ]
  },
  {
   "cell_type": "markdown",
   "id": "24d7b2ff",
   "metadata": {},
   "source": [
    "Ans. The os.getcwd() function returns the current working directory and os.chdir() function changes the current working directory."
   ]
  },
  {
   "cell_type": "code",
   "execution_count": 20,
   "id": "17ff1767",
   "metadata": {},
   "outputs": [
    {
     "data": {
      "text/plain": [
       "'C:\\\\Users\\\\urosh'"
      ]
     },
     "execution_count": 20,
     "metadata": {},
     "output_type": "execute_result"
    }
   ],
   "source": [
    "import os\n",
    "os.getcwd()"
   ]
  },
  {
   "cell_type": "code",
   "execution_count": 19,
   "id": "a088a571",
   "metadata": {},
   "outputs": [
    {
     "name": "stdout",
     "output_type": "stream",
     "text": [
      "changed\n"
     ]
    }
   ],
   "source": [
    "os.chdir(r\"C:\\Users\\urosh\")\n",
    "print(\"changed\")"
   ]
  },
  {
   "cell_type": "markdown",
   "id": "17b99af3",
   "metadata": {},
   "source": [
    "4. What are the . and .. folders?"
   ]
  },
  {
   "cell_type": "markdown",
   "id": "6a7b507d",
   "metadata": {},
   "source": [
    "Ans. The . folder is current folder and .. is parent folder."
   ]
  },
  {
   "cell_type": "markdown",
   "id": "fbb65dc0",
   "metadata": {},
   "source": [
    "5. In C:\\bacon\\eggs\\spam.txt, which part is the dir name, and which part is the base name?"
   ]
  },
  {
   "cell_type": "markdown",
   "id": "80bfad5f",
   "metadata": {},
   "source": [
    "Ans. C:\\bacon\\eggs is the dir name and spam.txt is the base name"
   ]
  },
  {
   "cell_type": "markdown",
   "id": "5f22be0a",
   "metadata": {},
   "source": [
    "6. What are the three “mode” arguments that can be passed to the open() function?"
   ]
  },
  {
   "cell_type": "markdown",
   "id": "9abcf9b2",
   "metadata": {},
   "source": [
    "Ans. The string 'r' for read mode and 'w' for write mode and 'a' for append mode are the three mode arguments that can be passed to the open() function."
   ]
  },
  {
   "cell_type": "code",
   "execution_count": 15,
   "id": "2b99289a",
   "metadata": {},
   "outputs": [
    {
     "name": "stdout",
     "output_type": "stream",
     "text": [
      "My name is Roshan\n"
     ]
    }
   ],
   "source": [
    "filename = open('test.txt','w')\n",
    "filename.write(\"My name is Roshan\")\n",
    "filename.close()\n",
    "\n",
    "filename = open('test.txt','r')\n",
    "print(filename.read())"
   ]
  },
  {
   "cell_type": "code",
   "execution_count": 16,
   "id": "07afbbeb",
   "metadata": {},
   "outputs": [
    {
     "name": "stdout",
     "output_type": "stream",
     "text": [
      "My name is Roshan. Ineuron is the best platform to learn coding\n"
     ]
    }
   ],
   "source": [
    "filename = open('test.txt','a')\n",
    "filename.write(\". Ineuron is the best platform to learn coding\")\n",
    "filename.close()\n",
    "\n",
    "filename = open('test.txt','r')\n",
    "print(filename.read())"
   ]
  },
  {
   "cell_type": "markdown",
   "id": "d00c6e55",
   "metadata": {},
   "source": [
    "7. What happens if an existing file is opened in write mode?"
   ]
  },
  {
   "cell_type": "markdown",
   "id": "1de28a5a",
   "metadata": {},
   "source": [
    "Ans. An existing file is opened in write mode is erased and overwritten."
   ]
  },
  {
   "cell_type": "markdown",
   "id": "6ba54fa1",
   "metadata": {},
   "source": [
    "8. How do you tell the difference between read() and readlines()?"
   ]
  },
  {
   "cell_type": "markdown",
   "id": "629b87bd",
   "metadata": {},
   "source": [
    "Ans. The read() method returns the file's entire contents as a single string value. The readlines() method returns a list of strings, where each string is a line from the file's contents. "
   ]
  },
  {
   "cell_type": "code",
   "execution_count": 17,
   "id": "d7643058",
   "metadata": {},
   "outputs": [
    {
     "name": "stdout",
     "output_type": "stream",
     "text": [
      "My name is Roshan. Ineuron is the best platform to learn coding\n"
     ]
    }
   ],
   "source": [
    "filename = open('test.txt','r')\n",
    "print(filename.read())"
   ]
  },
  {
   "cell_type": "code",
   "execution_count": 20,
   "id": "a9346556",
   "metadata": {},
   "outputs": [
    {
     "name": "stdout",
     "output_type": "stream",
     "text": [
      "['My name is Roshan. Ineuron is the best platform to learn coding']\n"
     ]
    }
   ],
   "source": [
    "filename = open('test.txt','r')\n",
    "print(filename.readlines())"
   ]
  },
  {
   "cell_type": "markdown",
   "id": "2d9724d9",
   "metadata": {},
   "source": [
    "9. What data structure does a shelf value resemble?"
   ]
  },
  {
   "cell_type": "markdown",
   "id": "55a2bea4",
   "metadata": {},
   "source": [
    "Ans. A shelf value resembles a dictionary value; it has keys and values, along with keys() and values() methods that work similarly to the dictionary methods of the same names."
   ]
  },
  {
   "cell_type": "code",
   "execution_count": null,
   "id": "f8ed844f",
   "metadata": {},
   "outputs": [],
   "source": []
  }
 ],
 "metadata": {
  "kernelspec": {
   "display_name": "Python 3 (ipykernel)",
   "language": "python",
   "name": "python3"
  },
  "language_info": {
   "codemirror_mode": {
    "name": "ipython",
    "version": 3
   },
   "file_extension": ".py",
   "mimetype": "text/x-python",
   "name": "python",
   "nbconvert_exporter": "python",
   "pygments_lexer": "ipython3",
   "version": "3.9.13"
  }
 },
 "nbformat": 4,
 "nbformat_minor": 5
}
