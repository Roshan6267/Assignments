{
 "cells": [
  {
   "cell_type": "markdown",
   "id": "5bf85bb1",
   "metadata": {},
   "source": [
    "# Python basic Programming Assignment 9"
   ]
  },
  {
   "cell_type": "markdown",
   "id": "e68a6a55",
   "metadata": {},
   "source": [
    "1.\tWrite a Python program to check if the given number is a Disarium Number?"
   ]
  },
  {
   "cell_type": "code",
   "execution_count": 3,
   "id": "b89d7ef6",
   "metadata": {},
   "outputs": [
    {
     "name": "stdout",
     "output_type": "stream",
     "text": [
      "Enter the number: 89\n",
      "89 is the Disarium number\n"
     ]
    }
   ],
   "source": [
    "n = input(\"Enter the number: \")\n",
    "num = int(n)\n",
    "digit_sum = 0\n",
    "num_str = str(n)\n",
    "for index, digit in enumerate(num_str):\n",
    "    digit_sum += int(digit)**(index+1)\n",
    "    \n",
    "if digit_sum == num:\n",
    "    print(num,\"is the Disarium number\")\n",
    "else:\n",
    "    print(num,\"is not Disarium number\")"
   ]
  },
  {
   "cell_type": "markdown",
   "id": "be8d56c6",
   "metadata": {},
   "source": [
    "2.\tWrite a Python program to print all disarium numbers between 1 to 100?"
   ]
  },
  {
   "cell_type": "code",
   "execution_count": 5,
   "id": "b20504a2",
   "metadata": {},
   "outputs": [
    {
     "name": "stdout",
     "output_type": "stream",
     "text": [
      "[1, 2, 3, 4, 5, 6, 7, 8, 9, 89]\n"
     ]
    }
   ],
   "source": [
    "disno = []\n",
    "for i in range(1, 101):\n",
    "    digit_sum = 0\n",
    "    num_str = str(i)\n",
    "    for index, digit in enumerate(num_str):\n",
    "        digit_sum += int(digit) ** (index + 1)\n",
    "    if digit_sum == i:\n",
    "        disno.append(i)\n",
    "        \n",
    "print(disno)\n"
   ]
  },
  {
   "cell_type": "markdown",
   "id": "8454233b",
   "metadata": {},
   "source": [
    "3.\tWrite a Python program to check if the given number is Happy Number?"
   ]
  },
  {
   "cell_type": "code",
   "execution_count": 6,
   "id": "387221af",
   "metadata": {},
   "outputs": [
    {
     "name": "stdout",
     "output_type": "stream",
     "text": [
      "Enter the number: 19\n",
      "This number is a happy number\n"
     ]
    }
   ],
   "source": [
    "n = input(\"Enter the number: \")\n",
    "num_str = str(n)\n",
    "digit_sum = 0 \n",
    "while True:\n",
    "    for index, digit in enumerate(num_str):\n",
    "        digit_sum += int(digit) ** 2\n",
    "    if digit_sum == 1:\n",
    "        print(\"This number is a happy number\")\n",
    "        break\n",
    "    elif digit_sum == 4:  \n",
    "        print(\"This number is not a happy number\")\n",
    "        break\n",
    "    else:\n",
    "        num_str = str(digit_sum)  \n",
    "        digit_sum = 0  \n"
   ]
  },
  {
   "cell_type": "markdown",
   "id": "75da04dc",
   "metadata": {},
   "source": [
    "4.\tWrite a Python program to print all happy numbers between 1 and 100?"
   ]
  },
  {
   "cell_type": "code",
   "execution_count": 13,
   "id": "cf3c1930",
   "metadata": {},
   "outputs": [
    {
     "name": "stdout",
     "output_type": "stream",
     "text": [
      "[1, 7, 10, 13, 19, 23, 28, 31, 32, 44, 49, 68, 70, 79, 82, 86, 91, 94, 97, 100]\n",
      "these are happy numbers\n"
     ]
    }
   ],
   "source": [
    "happyno = []\n",
    "for i in range(1,101):\n",
    "    num_str = str(i)\n",
    "    digit_sum = 0\n",
    "    while True:\n",
    "        for index, digit in enumerate(num_str):\n",
    "            digit_sum += int(digit) ** 2\n",
    "        if digit_sum == 1:\n",
    "            happyno.append(i)\n",
    "            break\n",
    "        elif digit_sum == 4:  \n",
    "            break\n",
    "        else:\n",
    "            num_str = str(digit_sum)  \n",
    "            digit_sum = 0  \n",
    "            \n",
    "print(happyno)\n",
    "print(\"these are happy numbers\")"
   ]
  },
  {
   "cell_type": "markdown",
   "id": "a4d4741c",
   "metadata": {},
   "source": [
    "5.\tWrite a Python program to determine whether the given number is a Harshad Number?"
   ]
  },
  {
   "cell_type": "code",
   "execution_count": 23,
   "id": "1113507b",
   "metadata": {},
   "outputs": [
    {
     "name": "stdout",
     "output_type": "stream",
     "text": [
      "Enter the number: 12\n",
      "this is Harshad number\n"
     ]
    }
   ],
   "source": [
    "n = input(\"Enter the number: \")\n",
    "num =int(n)\n",
    "num_str = str(n)\n",
    "digit_sum = 0 \n",
    "for digit in (num_str):\n",
    "    digit_sum += int(digit)\n",
    "\n",
    "if num % digit_sum == 0:\n",
    "    print(\"this is Harshad number\")\n",
    "else:\n",
    "    print(\"This is not a Harshad number\")"
   ]
  },
  {
   "cell_type": "markdown",
   "id": "74008907",
   "metadata": {},
   "source": [
    "6.\tWrite a Python program to print all pronic numbers between 1 and 100?"
   ]
  },
  {
   "cell_type": "code",
   "execution_count": 3,
   "id": "816bd695",
   "metadata": {},
   "outputs": [
    {
     "name": "stdout",
     "output_type": "stream",
     "text": [
      "Pronic numbers between 1 and 100: [2, 6, 12, 20, 30, 42, 56, 72, 90]\n"
     ]
    }
   ],
   "source": [
    "num = []\n",
    "for i in range(1,101):\n",
    "    if i * (i+1) <= 100:\n",
    "        num.append(i*(i+1))\n",
    "    \n",
    "print(\"Pronic numbers between 1 and 100:\",num)"
   ]
  },
  {
   "cell_type": "code",
   "execution_count": null,
   "id": "1dd7ca57",
   "metadata": {},
   "outputs": [],
   "source": []
  }
 ],
 "metadata": {
  "kernelspec": {
   "display_name": "Python 3 (ipykernel)",
   "language": "python",
   "name": "python3"
  },
  "language_info": {
   "codemirror_mode": {
    "name": "ipython",
    "version": 3
   },
   "file_extension": ".py",
   "mimetype": "text/x-python",
   "name": "python",
   "nbconvert_exporter": "python",
   "pygments_lexer": "ipython3",
   "version": "3.9.13"
  }
 },
 "nbformat": 4,
 "nbformat_minor": 5
}
