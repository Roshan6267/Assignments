{
 "cells": [
  {
   "cell_type": "markdown",
   "id": "433bd2f9",
   "metadata": {},
   "source": [
    "# Python basic Programming Assignment 11"
   ]
  },
  {
   "cell_type": "markdown",
   "id": "33ee0262",
   "metadata": {},
   "source": [
    "1.\tWrite a Python program to find words which are greater than given length k?"
   ]
  },
  {
   "cell_type": "code",
   "execution_count": 5,
   "id": "10342120",
   "metadata": {},
   "outputs": [
    {
     "name": "stdout",
     "output_type": "stream",
     "text": [
      "enter the word :I love coding\n",
      "Enter the lenth K : 2\n",
      "Words longer than 2 characters: ['love', 'coding']\n"
     ]
    }
   ],
   "source": [
    "txt = str(input(\"enter the word :\"))\n",
    "txt = txt.split()\n",
    "k = int(input(\"Enter the lenth K : \"))\n",
    "wordlist = []\n",
    "for i in txt:\n",
    "    if len(i)>k:\n",
    "        wordlist.append(i)\n",
    "        \n",
    "print(\"Words longer than\", k, \"characters:\", wordlist)"
   ]
  },
  {
   "cell_type": "markdown",
   "id": "e630bdd4",
   "metadata": {},
   "source": [
    "2.\tWrite a Python program for removing i-th character from a string?"
   ]
  },
  {
   "cell_type": "code",
   "execution_count": 8,
   "id": "258b0027",
   "metadata": {},
   "outputs": [
    {
     "name": "stdout",
     "output_type": "stream",
     "text": [
      "enter the word :Shiva\n",
      "1\n",
      "Siva\n"
     ]
    }
   ],
   "source": [
    "txt = str(input(\"enter the word :\"))\n",
    "\n",
    "i_th = int(input())\n",
    "for i in range(len(txt)):\n",
    "    if i == i_th:\n",
    "        txt = txt.replace(txt[i_th],\"\",1)\n",
    "        \n",
    "print(txt)"
   ]
  },
  {
   "cell_type": "markdown",
   "id": "23c5e745",
   "metadata": {},
   "source": [
    "3.\tWrite a Python program to split and join a string?"
   ]
  },
  {
   "cell_type": "code",
   "execution_count": 9,
   "id": "0d66e9a8",
   "metadata": {},
   "outputs": [
    {
     "name": "stdout",
     "output_type": "stream",
     "text": [
      "Spliting a string :  ['I', 'love', 'coding']\n",
      "Joining a string :  I-love-coding\n"
     ]
    }
   ],
   "source": [
    "str = \"I love coding\"\n",
    "str = str.split(\" \") \n",
    "print(\"Spliting a string : \",str)\n",
    "\n",
    "\n",
    "str2 = \"-\".join(str)\n",
    "print(\"Joining a string : \",str2)"
   ]
  },
  {
   "cell_type": "markdown",
   "id": "ffce9e40",
   "metadata": {},
   "source": [
    "4.\tWrite a Python to check if a given string is binary string or not?"
   ]
  },
  {
   "cell_type": "code",
   "execution_count": 18,
   "id": "2c204cef",
   "metadata": {},
   "outputs": [
    {
     "name": "stdout",
     "output_type": "stream",
     "text": [
      "Enter the string: 0134\n",
      "Not Binary\n"
     ]
    }
   ],
   "source": [
    "txt = input(\"Enter the string: \")\n",
    "binary = '01'\n",
    "is_binary = True\n",
    "for i in range(len(txt)):\n",
    "    if txt[i] not in binary:\n",
    "        is_binary = False\n",
    "        break\n",
    "if is_binary:\n",
    "    print(\"Binary\")\n",
    "else:\n",
    "    print(\"Not Binary\")"
   ]
  },
  {
   "cell_type": "markdown",
   "id": "3d97c14c",
   "metadata": {},
   "source": [
    "5.\tWrite a Python program to find uncommon words from two Strings?"
   ]
  },
  {
   "cell_type": "code",
   "execution_count": 2,
   "id": "c2fce194",
   "metadata": {},
   "outputs": [
    {
     "name": "stdout",
     "output_type": "stream",
     "text": [
      "Enter the first string: i am not good boy\n",
      "Enter the second string: i am good boy\n",
      "Unmatched words: [('not', 'good'), ('good', 'boy')]\n"
     ]
    }
   ],
   "source": [
    "txt1 = input(\"Enter the first string: \")\n",
    "words1 = txt1.split()\n",
    "\n",
    "txt2 = input(\"Enter the second string: \")\n",
    "words2 = txt2.split()\n",
    "\n",
    "unmatched_words = []\n",
    "\n",
    "for word1, word2 in zip(words1, words2):\n",
    "    if word1 != word2:\n",
    "        unmatched_words.append((word1, word2))\n",
    "\n",
    "print(\"Unmatched words:\", unmatched_words)"
   ]
  },
  {
   "cell_type": "markdown",
   "id": "96ed6aea",
   "metadata": {},
   "source": [
    "6.\tWrite a Python to find all duplicate characters in string?"
   ]
  },
  {
   "cell_type": "code",
   "execution_count": 5,
   "id": "2a7d3a0b",
   "metadata": {},
   "outputs": [
    {
     "name": "stdout",
     "output_type": "stream",
     "text": [
      "Enter the string a : python is powerful\n"
     ]
    },
    {
     "data": {
      "text/plain": [
       "['p', 'o', ' ']"
      ]
     },
     "execution_count": 5,
     "metadata": {},
     "output_type": "execute_result"
    }
   ],
   "source": [
    "str = input(\"Enter the string a : \").lower()\n",
    "duplicate = []\n",
    "\n",
    "for i in str:\n",
    "    if str.count(i) > 1 :\n",
    "        if i not in duplicate:\n",
    "            duplicate.append(i)\n",
    "        \n",
    "duplicate"
   ]
  },
  {
   "cell_type": "markdown",
   "id": "d1d3b291",
   "metadata": {},
   "source": [
    "7.\tWrite a Python Program to check if a string contains any special character?"
   ]
  },
  {
   "cell_type": "code",
   "execution_count": 6,
   "id": "497babf9",
   "metadata": {},
   "outputs": [
    {
     "name": "stdout",
     "output_type": "stream",
     "text": [
      "Enter the string a : i am !@##$%\n",
      "String i am !@##$% has special charecter/s : ['!', '@', '#', '#', '$', '%']\n"
     ]
    }
   ],
   "source": [
    "import string\n",
    "\n",
    "str_char = string.punctuation\n",
    "speci_str = []\n",
    "\n",
    "str = input(\"Enter the string a : \").lower()\n",
    "for i in str:\n",
    "    if i in str_char:\n",
    "        speci_str.append(i)\n",
    "if len(speci_str) > 0:\n",
    "    print(\"String {} has special charecter/s : {}\".format(str,speci_str))"
   ]
  },
  {
   "cell_type": "code",
   "execution_count": null,
   "id": "e1fb0ecc",
   "metadata": {},
   "outputs": [],
   "source": []
  }
 ],
 "metadata": {
  "kernelspec": {
   "display_name": "Python 3 (ipykernel)",
   "language": "python",
   "name": "python3"
  },
  "language_info": {
   "codemirror_mode": {
    "name": "ipython",
    "version": 3
   },
   "file_extension": ".py",
   "mimetype": "text/x-python",
   "name": "python",
   "nbconvert_exporter": "python",
   "pygments_lexer": "ipython3",
   "version": "3.9.13"
  }
 },
 "nbformat": 4,
 "nbformat_minor": 5
}
