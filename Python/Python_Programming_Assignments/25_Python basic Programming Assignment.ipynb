{
 "cells": [
  {
   "cell_type": "markdown",
   "id": "0c0345ef",
   "metadata": {},
   "source": [
    "# Python basic Programming Assignment 25"
   ]
  },
  {
   "cell_type": "markdown",
   "id": "a3c3af7f",
   "metadata": {},
   "source": [
    ">Q. Create a function that takes three integer arguments (a, b, c) and returns the amount of integers which are of equal value. Examples equal(3, 4, 3) ➞ 2 equal(1, 1, 1) ➞ 3 equal(3, 4, 1) ➞ 0 Notes Your function must return 0, 2 or 3."
   ]
  },
  {
   "cell_type": "code",
   "execution_count": 2,
   "id": "b3ba4038",
   "metadata": {},
   "outputs": [
    {
     "data": {
      "text/plain": [
       "3"
      ]
     },
     "execution_count": 2,
     "metadata": {},
     "output_type": "execute_result"
    }
   ],
   "source": [
    "def equal(a,b,c):\n",
    "    num = 0\n",
    "    if a == b and b == c:\n",
    "        num = 3\n",
    "    elif a == b or b == c:\n",
    "        num = 2\n",
    "    else:\n",
    "        num = 0\n",
    "    return num\n",
    "equal(1,1,1)"
   ]
  },
  {
   "cell_type": "markdown",
   "id": "3d13872a",
   "metadata": {},
   "source": [
    ">Q. Write a function that converts a dictionary into a list of keys-values tuples. Examples dict_to_list({ 'D': 1, 'B': 2, 'C': 3 }) ➞ [('B', 2), ('C', 3), ('D', 1)] dict_to_list({ 'likes': 2, 'dislikes': 3, 'followers': 10 }) ➞ [('dislikes', 3), ('followers', 10), ('likes', 2)] Notes Return the elements in the list in alphabetical order."
   ]
  },
  {
   "cell_type": "code",
   "execution_count": 4,
   "id": "19d1bbfd",
   "metadata": {},
   "outputs": [],
   "source": [
    "def dict_to_list(dicti):\n",
    "    return list(sorted(dicti.items()))"
   ]
  },
  {
   "cell_type": "code",
   "execution_count": 5,
   "id": "499eeb6f",
   "metadata": {},
   "outputs": [
    {
     "data": {
      "text/plain": [
       "[('B', 2), ('C', 3), ('D', 1)]"
      ]
     },
     "execution_count": 5,
     "metadata": {},
     "output_type": "execute_result"
    }
   ],
   "source": [
    "dict_to_list({\n",
    "    'D': 1,\n",
    "    'B': 2,\n",
    "    'C': 3\n",
    "    })"
   ]
  },
  {
   "cell_type": "markdown",
   "id": "be436615",
   "metadata": {},
   "source": [
    ">Q. Write a function that creates a dictionary with each (key, value) pair being the (lower case, upper case) versions of a letter, respectively. Examples mapping(['p', 's']) ➞ { 'p': 'P', 's': 'S' }\n",
    "\n",
    "mapping(['a', 'b', 'c']) ➞ { 'a': 'A', 'b': 'B', 'c': 'C' } mapping(['a', 'v', 'y', 'z']) ➞ { 'a': 'A', 'v': 'V', 'y': 'Y', 'z': 'Z' } Notes All of the letters in the input list will always be lowercase."
   ]
  },
  {
   "cell_type": "code",
   "execution_count": 6,
   "id": "c65fdab2",
   "metadata": {},
   "outputs": [
    {
     "data": {
      "text/plain": [
       "{'a': 'A', 'v': 'V', 'y': 'Y', 'z': 'Z'}"
      ]
     },
     "execution_count": 6,
     "metadata": {},
     "output_type": "execute_result"
    }
   ],
   "source": [
    "def mapping(lst):\n",
    "    return {v.lower():v.upper() for v in lst}\n",
    "mapping(['a', 'v', 'y', 'z'])"
   ]
  },
  {
   "cell_type": "markdown",
   "id": "29edbe3a",
   "metadata": {},
   "source": [
    ">Q. Write a function, that replaces all vowels in a string with a specified vowel. Examples vow_replace('apples and bananas', 'u') ➞ 'upplus und bununus' vow_replace('cheese casserole', 'o') ➞ 'chooso cossorolo' vow_replace('stuffed jalapeno poppers', 'e') ➞ 'steffed jelepene peppers' Notes All words will be lowercase. Y is not considered a vowel."
   ]
  },
  {
   "cell_type": "code",
   "execution_count": 9,
   "id": "e363190e",
   "metadata": {},
   "outputs": [
    {
     "data": {
      "text/plain": [
       "'chooso cossorolo'"
      ]
     },
     "execution_count": 9,
     "metadata": {},
     "output_type": "execute_result"
    }
   ],
   "source": [
    "def vow_replace(s,ch):\n",
    "    vowels = 'AEIOUaeiou'\n",
    "    s1 = []\n",
    "    for i in range(len(s)):\n",
    "        if s[i] in vowels:\n",
    "            s1.append(ch)\n",
    "        else:\n",
    "            s1.append(s[i])\n",
    "\n",
    "    return ''.join((s1))\n",
    "\n",
    "vow_replace('cheese casserole', 'o')"
   ]
  },
  {
   "cell_type": "markdown",
   "id": "4752ee3b",
   "metadata": {},
   "source": [
    ">Q. Create a function that takes a string as input and capitalizes a letter if its ASCII code is even and returns its lower case version if its ASCII code is odd. Examples ascii_capitalize('to be or not to be!') ➞ 'To Be oR NoT To Be!' ascii_capitalize('THE LITTLE MERMAID') ➞ 'THe LiTTLe meRmaiD' ascii_capitalize('Oh what a beautiful morning.') ➞ 'oH wHaT a BeauTiFuL moRNiNg.'"
   ]
  },
  {
   "cell_type": "code",
   "execution_count": 11,
   "id": "b32ba9bf",
   "metadata": {},
   "outputs": [
    {
     "data": {
      "text/plain": [
       "'To Be oR NoT To Be!'"
      ]
     },
     "execution_count": 11,
     "metadata": {},
     "output_type": "execute_result"
    }
   ],
   "source": [
    "def ascii_capitalize(s):\n",
    "    s1 = []\n",
    "    for i in range(len(s)):\n",
    "        if ord(s[i]) % 2 == 0:\n",
    "            s1.append(s[i].upper())\n",
    "        else:\n",
    "            s1.append(s[i].lower())\n",
    "\n",
    "    return \"\".join((s1))\n",
    "ascii_capitalize('to be or not to be!')"
   ]
  },
  {
   "cell_type": "code",
   "execution_count": null,
   "id": "f72aff77",
   "metadata": {},
   "outputs": [],
   "source": []
  }
 ],
 "metadata": {
  "kernelspec": {
   "display_name": "Python 3 (ipykernel)",
   "language": "python",
   "name": "python3"
  },
  "language_info": {
   "codemirror_mode": {
    "name": "ipython",
    "version": 3
   },
   "file_extension": ".py",
   "mimetype": "text/x-python",
   "name": "python",
   "nbconvert_exporter": "python",
   "pygments_lexer": "ipython3",
   "version": "3.9.13"
  }
 },
 "nbformat": 4,
 "nbformat_minor": 5
}
