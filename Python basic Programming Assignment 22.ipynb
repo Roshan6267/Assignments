{
 "cells": [
  {
   "cell_type": "markdown",
   "id": "ffc4f260",
   "metadata": {},
   "source": [
    "# Python basic Programming Assignment 22"
   ]
  },
  {
   "cell_type": "markdown",
   "id": "7bf8f4c9",
   "metadata": {},
   "source": [
    ">Q. Create a function that takes three parameters where:  x is the start of the range (inclusive).  y is the end of the range (inclusive).  n is the divisor to be checked against. Return an ordered list with numbers in the range that are divisible by the third parameter n. Return an empty list if there are no numbers that are divisible by n. Examples list_operation(1, 10, 3) ➞ [3, 6, 9] list_operation(7, 9, 2) ➞ [8] list_operation(15, 20, 7) ➞ []"
   ]
  },
  {
   "cell_type": "code",
   "execution_count": 4,
   "id": "7fa0604f",
   "metadata": {},
   "outputs": [
    {
     "name": "stdout",
     "output_type": "stream",
     "text": [
      "[3, 6, 9]\n",
      "[]\n"
     ]
    }
   ],
   "source": [
    " def list_operation(x,y,n):\n",
    "        ordered_list= []\n",
    "        for i in range(x,y+1):\n",
    "            if i % n == 0:\n",
    "                ordered_list.append(i)\n",
    "        return ordered_list\n",
    "                \n",
    "print(list_operation(1, 10, 3)) \n",
    "print(list_operation(15, 20, 7))"
   ]
  },
  {
   "cell_type": "markdown",
   "id": "de0de1d6",
   "metadata": {},
   "source": [
    ">Q. Create a function that takes in two lists and returns True if the second list follows the first list by one element, and False otherwise. In other words, determine if the second list is the first list shifted to the right by 1. Examples simon_says([1, 2], [5, 1]) ➞ True simon_says([1, 2], [5, 5]) ➞ False simon_says([1, 2, 3, 4, 5], [0, 1, 2, 3, 4]) ➞ True simon_says([1, 2, 3, 4, 5], [5, 5, 1, 2, 3]) ➞ False Notes  Both input lists will be of the same length, and will have a minimum length of 2.  The values of the 0-indexed element in the second list and the n-1th indexed element in the first list do not matter."
   ]
  },
  {
   "cell_type": "code",
   "execution_count": 6,
   "id": "e2bd39b0",
   "metadata": {},
   "outputs": [
    {
     "name": "stdout",
     "output_type": "stream",
     "text": [
      "False\n",
      "True\n"
     ]
    }
   ],
   "source": [
    "def simon_says(ls,ls2):\n",
    "    if ls[0:len(ls)-1] == ls2[1:len(ls2)]:\n",
    "        return True\n",
    "    return False\n",
    "\n",
    "print(simon_says([1, 2, 3, 4, 5], [5, 5, 1, 2, 3]))\n",
    "print(simon_says([1, 2], [5, 1]))"
   ]
  },
  {
   "cell_type": "markdown",
   "id": "fa169417",
   "metadata": {},
   "source": [
    ">Q. A group of friends have decided to start a secret society. The name will be the first letter of each of their names, sorted in alphabetical order. Create a function that takes in a list of names and returns the name of the secret society.\n",
    "\n",
    "Examples society_name(['Adam', 'Sarah', 'Malcolm']) ➞ 'AMS' society_name(['Harry', 'Newt', 'Luna', 'Cho']) ➞ 'CHLN' society_name(['Phoebe', 'Chandler', 'Rachel', 'Ross', 'Monica', 'Joey'])"
   ]
  },
  {
   "cell_type": "code",
   "execution_count": 8,
   "id": "bbfd559a",
   "metadata": {},
   "outputs": [
    {
     "name": "stdout",
     "output_type": "stream",
     "text": [
      "AMS\n",
      "CHLN\n"
     ]
    }
   ],
   "source": [
    "def society_name(lst):\n",
    "    return ''.join([i[0] for i in sorted(lst)])\n",
    "print(society_name(['Adam', 'Sarah', 'Malcolm']))\n",
    "print(society_name(['Harry', 'Newt', 'Luna', 'Cho']))"
   ]
  },
  {
   "cell_type": "markdown",
   "id": "6ede6ec0",
   "metadata": {},
   "source": [
    ">Q. An isogram is a word that has no duplicate letters. Create a function that takes a string and returns either True or False depending on whether or not it's an 'isogram'. Examples is_isogram('Algorism') ➞ True is_isogram('PasSword') ➞ False Not case sensitive. is_isogram('Consecutive') ➞ False Notes  Ignore letter case (should not be case sensitive).  All test cases contain valid one word strings.\n",
    "\n"
   ]
  },
  {
   "cell_type": "code",
   "execution_count": 10,
   "id": "1f0b9b45",
   "metadata": {},
   "outputs": [
    {
     "data": {
      "text/plain": [
       "False"
      ]
     },
     "execution_count": 10,
     "metadata": {},
     "output_type": "execute_result"
    }
   ],
   "source": [
    "def is_isogram(word):\n",
    "    for i in range(len(word)) :\n",
    "        if word.lower().count(word[i]) > 1:\n",
    "            return False\n",
    "    else:\n",
    "        return True\n",
    "        \n",
    "is_isogram('PasSword')"
   ]
  },
  {
   "cell_type": "markdown",
   "id": "984d30a6",
   "metadata": {},
   "source": [
    ">Q. Create a function that takes a string and returns True or False, depending on whether the characters are in order or not. Examples is_in_order('abc') ➞ True is_in_order('edabit') ➞ False is_in_order('123') ➞ True is_in_order('xyzz') ➞ True Notes You don't have to handle empty strings."
   ]
  },
  {
   "cell_type": "code",
   "execution_count": 11,
   "id": "c3022f00",
   "metadata": {},
   "outputs": [
    {
     "data": {
      "text/plain": [
       "False"
      ]
     },
     "execution_count": 11,
     "metadata": {},
     "output_type": "execute_result"
    }
   ],
   "source": [
    "def is_in_order(s):\n",
    "    n = len(s)\n",
    "    c = [s[i] for i in range(len(s))]\n",
    "    c.sort()\n",
    "    for i in range(n):\n",
    "        if c[i] != s[i]:\n",
    "            return False\n",
    "    return True\n",
    "     \n",
    "is_in_order('edabit')"
   ]
  },
  {
   "cell_type": "code",
   "execution_count": null,
   "id": "42d45b94",
   "metadata": {},
   "outputs": [],
   "source": []
  }
 ],
 "metadata": {
  "kernelspec": {
   "display_name": "Python 3 (ipykernel)",
   "language": "python",
   "name": "python3"
  },
  "language_info": {
   "codemirror_mode": {
    "name": "ipython",
    "version": 3
   },
   "file_extension": ".py",
   "mimetype": "text/x-python",
   "name": "python",
   "nbconvert_exporter": "python",
   "pygments_lexer": "ipython3",
   "version": "3.9.13"
  }
 },
 "nbformat": 4,
 "nbformat_minor": 5
}
