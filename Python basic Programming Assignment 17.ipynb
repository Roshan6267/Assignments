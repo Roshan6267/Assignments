{
 "cells": [
  {
   "cell_type": "markdown",
   "id": "fbdb592c",
   "metadata": {},
   "source": [
    "# Python basic Programming Assignment 17"
   ]
  },
  {
   "cell_type": "markdown",
   "id": "51caffff",
   "metadata": {},
   "source": [
    ">Q. Create a function that takes three arguments a, b, c and returns the sum of the numbers that are evenly divided by c from the range a, b inclusive. Examples evenly_divisible(1, 10, 20) ➞ 0 No number between 1 and 10 can be evenly divided by 20. evenly_divisible(1, 10, 2) ➞ 30 2 + 4 + 6 + 8 + 10 = 30 evenly_divisible(1, 10, 3) ➞ 18 3 + 6 + 9 = 18\n"
   ]
  },
  {
   "cell_type": "code",
   "execution_count": 8,
   "id": "65d4c94a",
   "metadata": {},
   "outputs": [
    {
     "name": "stdout",
     "output_type": "stream",
     "text": [
      "1\n",
      "10\n",
      "20\n",
      "Sum of numbers between 1 and 10 that are evenly divisible by 20 is: 1\n"
     ]
    }
   ],
   "source": [
    "def evenly_divisible(a,b,c):\n",
    "        sum = 0\n",
    "        for i in range(a,b+1):\n",
    "            if sum%c == 0:\n",
    "                sum += i\n",
    "        return sum\n",
    "            \n",
    "a=int(input())\n",
    "b=int(input())\n",
    "c=int(input())\n",
    "result = evenly_divisible(a, b, c)\n",
    "print(\"Sum of numbers between\", a, \"and\", b, \"that are evenly divisible by\", c, \"is:\", result)"
   ]
  },
  {
   "cell_type": "markdown",
   "id": "4756f8ff",
   "metadata": {},
   "source": [
    ">Q. Create a function that returns True if a given inequality expression is correct and False otherwise. Examples correct_signs(\"3 > 7 < 11\") ➞ True correct_signs(\"13 > 44 > 33 > 1\") ➞ False correct_signs(\"1 < 2 < 6 < 9 > 3\") ➞ True"
   ]
  },
  {
   "cell_type": "code",
   "execution_count": 9,
   "id": "ffdff3ca",
   "metadata": {},
   "outputs": [
    {
     "name": "stdout",
     "output_type": "stream",
     "text": [
      "False\n",
      "False\n",
      "True\n"
     ]
    }
   ],
   "source": [
    "def correct_signs(txt):\n",
    "    return eval(txt)\n",
    "print(correct_signs(\"3 > 7 < 11\"))\n",
    "print(correct_signs(\"13 > 44 > 33 > 1\"))\n",
    "print(correct_signs(\"1 < 2 < 6 < 9 > 3\"))\n",
    "     "
   ]
  },
  {
   "cell_type": "markdown",
   "id": "f904fc58",
   "metadata": {},
   "source": [
    ">Q. Create a function that replaces all the vowels in a string with a specified character. Examples replace_vowels('the aardvark, '#') ➞ 'th# ##rdv#rk' replace_vowels('minnie mouse', '?') ➞ 'm?nn?? m??s?' replace_vowels('shakespeare', '') ➞ 'shksp**r'\n"
   ]
  },
  {
   "cell_type": "code",
   "execution_count": 19,
   "id": "02eac6ce",
   "metadata": {},
   "outputs": [
    {
     "name": "stdout",
     "output_type": "stream",
     "text": [
      "boy\n",
      "?\n",
      "b?y\n"
     ]
    }
   ],
   "source": [
    "def replace_vowels(string,s):\n",
    "    vowels = ['a','e','i','o','u','A','E','I','O','U']\n",
    "    for vowel in vowels:\n",
    "        string =  string.replace(vowel,s)\n",
    "    return string\n",
    "str_input = input()\n",
    "sp = input()\n",
    "print(replace_vowels(str_input,sp))"
   ]
  },
  {
   "cell_type": "markdown",
   "id": "a23897c2",
   "metadata": {},
   "source": [
    ">Q.Write a function that calculates the factorial of a number recursively. Examples factorial(5) ➞ 120 factorial(3) ➞ 6 factorial(1) ➞ 1 factorial(0) ➞ 1"
   ]
  },
  {
   "cell_type": "code",
   "execution_count": 20,
   "id": "001a64b4",
   "metadata": {},
   "outputs": [
    {
     "name": "stdout",
     "output_type": "stream",
     "text": [
      "enter a number :5\n",
      "Factorial of 5 is 120\n"
     ]
    }
   ],
   "source": [
    "def factorial(n):\n",
    "    if n == 0:\n",
    "        return 1\n",
    "    return n * factorial(n-1)\n",
    "num = int(input('enter a number :'))\n",
    "print(\"Factorial of\", num, \"is\", factorial(num))"
   ]
  },
  {
   "cell_type": "markdown",
   "id": "eb8abcd9",
   "metadata": {},
   "source": [
    ">Q. Hamming distance is the number of characters that differ between two strings. To illustrate: String1: 'abcbba' String2: 'abcbda' Hamming Distance: 1 - 'b' vs. 'd' is the only difference. Create a function that computes the hamming distance between two strings. Examples hamming_distance('abcde', 'bcdef') ➞ 5 hamming_distance('abcde', 'abcde') ➞ 0 hamming_distance('strong', 'strung') ➞ 1"
   ]
  },
  {
   "cell_type": "code",
   "execution_count": 23,
   "id": "722151e4",
   "metadata": {},
   "outputs": [
    {
     "name": "stdout",
     "output_type": "stream",
     "text": [
      "5\n",
      "0\n"
     ]
    }
   ],
   "source": [
    "def hamming_distance(str1, str2):\n",
    "    if len(str1) != len(str2):\n",
    "        raise ValueError(\"The strings must have the same length.\")\n",
    "    \n",
    "    distance = 0\n",
    "    for char1, char2 in zip(str1, str2):\n",
    "        if char1 != char2:\n",
    "            distance += 1\n",
    "    return distance\n",
    "\n",
    "print(hamming_distance('abcde', 'bcdef'))  \n",
    "print(hamming_distance('abcde', 'abcde'))  "
   ]
  },
  {
   "cell_type": "code",
   "execution_count": null,
   "id": "58e98e69",
   "metadata": {},
   "outputs": [],
   "source": []
  }
 ],
 "metadata": {
  "kernelspec": {
   "display_name": "Python 3 (ipykernel)",
   "language": "python",
   "name": "python3"
  },
  "language_info": {
   "codemirror_mode": {
    "name": "ipython",
    "version": 3
   },
   "file_extension": ".py",
   "mimetype": "text/x-python",
   "name": "python",
   "nbconvert_exporter": "python",
   "pygments_lexer": "ipython3",
   "version": "3.9.13"
  }
 },
 "nbformat": 4,
 "nbformat_minor": 5
}
