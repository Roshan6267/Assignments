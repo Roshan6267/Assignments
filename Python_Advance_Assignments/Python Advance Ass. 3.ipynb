{
 "cells": [
  {
   "cell_type": "markdown",
   "id": "77b7715d",
   "metadata": {},
   "source": [
    "# Python Advance Ass. 3"
   ]
  },
  {
   "cell_type": "markdown",
   "id": "9af51c24",
   "metadata": {},
   "source": [
    "#### 1. What is the concept of an abstract superclass?"
   ]
  },
  {
   "cell_type": "markdown",
   "id": "f55b5608",
   "metadata": {},
   "source": [
    "**Ans :** An abstract class/superclass can be considered as a blueprint for other classes. It allows you to create a set of methods that must be created within any child classes built from the abstract class. A class which contains one or more abstract methods is called an abstract class.\n",
    "\n",
    "Whereas an abstract method is a method that has a declaration but does not have an implementation"
   ]
  },
  {
   "cell_type": "code",
   "execution_count": 1,
   "id": "9663e13c",
   "metadata": {},
   "outputs": [],
   "source": [
    "from abc import ABC, abstractmethod\n",
    "class Polygon(ABC): # Abstract Class\n",
    "    @abstractmethod\n",
    "    def noofsides(self): # Abstract Method\n",
    "        pass\n",
    "class Triangle(Polygon):\n",
    "    def noofsides(self):  # overriding abstract method in child class Triangle\n",
    "        print(\"I have 3 sides\")\n",
    "class Pentagon(Polygon):\n",
    "    def noofsides(self): # overriding abstract method in child class Pentagon\n",
    "        print(\"I have 5 sides\")"
   ]
  },
  {
   "cell_type": "markdown",
   "id": "ff1b87d1",
   "metadata": {},
   "source": [
    "#### 2. What happens when a class statement's top level contains a basic assignment statement?"
   ]
  },
  {
   "cell_type": "markdown",
   "id": "7b4e4703",
   "metadata": {},
   "source": [
    "**Ans:** When a Class statement's top level contains a basic assignment statement, its usually treated as a class attribute or class level variable.\n",
    "\n",
    "where as assignment statements inside methods are treated as instance attributes or local attributes.\n",
    "\n",
    "When an instance of a class is created a single copy of class attributes is maintained and shared to all instances of class. where as each instance object maintains its own copy of instance variables."
   ]
  },
  {
   "cell_type": "code",
   "execution_count": 3,
   "id": "479581f1",
   "metadata": {},
   "outputs": [],
   "source": [
    "class Person:\n",
    "    species = 'Homosapiens' # class attribute\n",
    "    def __init__(self,name,gender):\n",
    "        self.name = name # instance attributes\n",
    "        self.gender = gender"
   ]
  },
  {
   "cell_type": "markdown",
   "id": "462beac6",
   "metadata": {},
   "source": [
    "#### 3. Why does a class need to manually call a superclass's init method?"
   ]
  },
  {
   "cell_type": "markdown",
   "id": "69e0b64c",
   "metadata": {},
   "source": [
    "**Ans:** if a child class has **`__init__`** method, then it will not inherit the **`__init__`** method of the parent class. in other words the **`__init__`** method of the child class overrides the **`__init__`** method of the parent class. so we have to manually call a parent superclass's **`__init__`** using **`super()`** method"
   ]
  },
  {
   "cell_type": "code",
   "execution_count": 5,
   "id": "d46ae992",
   "metadata": {},
   "outputs": [
    {
     "name": "stdout",
     "output_type": "stream",
     "text": [
      "{'salary': 20000, 'name': 'Vivek', 'age': 28}\n"
     ]
    }
   ],
   "source": [
    "class Person:\n",
    "    def __init__(self,name,age):\n",
    "        self.name = name\n",
    "        self.age = age       \n",
    "class Employee(Person):\n",
    "    def __init__(self,name,age,salary):\n",
    "        super().__init__(name,age)\n",
    "emp_1 = Employee('Vivek',28,20000)\n",
    "print(emp_1.__dict__)"
   ]
  },
  {
   "cell_type": "markdown",
   "id": "fa6d1e5e",
   "metadata": {},
   "source": [
    "#### 4. How can you augment, instead of completely replacing, an inherited method?"
   ]
  },
  {
   "cell_type": "markdown",
   "id": "a582cf83",
   "metadata": {},
   "source": [
    "**Ans:** super() method can be used to augment, instead of completely replacing, an inherited method.\n"
   ]
  },
  {
   "cell_type": "code",
   "execution_count": 6,
   "id": "398e7fcc",
   "metadata": {},
   "outputs": [
    {
     "name": "stdout",
     "output_type": "stream",
     "text": [
      "{'name': 'Vivek', 'gender': 'Male', 'salary': 10000}\n"
     ]
    }
   ],
   "source": [
    "class Person:\n",
    "    def __init__(self,name,gender):\n",
    "        self.name = name\n",
    "        self.gender = gender\n",
    "class Employee(Person):\n",
    "    def __init__(self,name,gender,salary):\n",
    "        super().__init__(name,gender) \n",
    "        self.salary = salary\n",
    "emp_1 = Employee('Vivek','Male',10000)\n",
    "print(emp_1.__dict__)       "
   ]
  },
  {
   "cell_type": "markdown",
   "id": "9295131e",
   "metadata": {},
   "source": [
    "#### 5. How is the local scope of a class different from that of a function?"
   ]
  },
  {
   "cell_type": "markdown",
   "id": "6c6dc1d0",
   "metadata": {},
   "source": [
    "**Ans:** A Variable which is defined inside a function is local to that function. it is accesible from the point at which it is defined until the end of the function, and exists for as long as the function is existing.\n",
    "\n",
    "Similary a variable inside of a class also has a local variable scope. Variables which are defined in the class body (but outside all methods) are called as class level variables or class attributes. they can be referenced by there bare names within the same scope, but they can also be accessed from outside this scope if we use the attribute access operator (.). on a class or an instance of the class."
   ]
  },
  {
   "cell_type": "code",
   "execution_count": 7,
   "id": "401dbe66",
   "metadata": {},
   "outputs": [
    {
     "name": "stdout",
     "output_type": "stream",
     "text": [
      "you're name is Mano Vishnu\n",
      "Name varible is not available outside hello function scope\n",
      "HomeSapines\n",
      "HomeSapines\n"
     ]
    }
   ],
   "source": [
    "def hello(name):\n",
    "    name = name\n",
    "    print(f'you\\'re name is {name}')\n",
    "hello('Mano Vishnu')\n",
    "try:\n",
    "    name\n",
    "except NameError:\n",
    "    print('Name varible is not available outside hello function scope')\n",
    "\n",
    "class Person:\n",
    "    species = \"HomeSapines\"\n",
    "    def __init__(self):\n",
    "        pass\n",
    "print(Person.species)\n",
    "Male = Person()\n",
    "print(Male.species)"
   ]
  },
  {
   "cell_type": "code",
   "execution_count": null,
   "id": "5186a81d",
   "metadata": {},
   "outputs": [],
   "source": []
  }
 ],
 "metadata": {
  "kernelspec": {
   "display_name": "Python 3 (ipykernel)",
   "language": "python",
   "name": "python3"
  },
  "language_info": {
   "codemirror_mode": {
    "name": "ipython",
    "version": 3
   },
   "file_extension": ".py",
   "mimetype": "text/x-python",
   "name": "python",
   "nbconvert_exporter": "python",
   "pygments_lexer": "ipython3",
   "version": "3.9.13"
  }
 },
 "nbformat": 4,
 "nbformat_minor": 5
}
