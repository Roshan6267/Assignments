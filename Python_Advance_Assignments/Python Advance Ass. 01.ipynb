{
 "cells": [
  {
   "cell_type": "markdown",
   "id": "eb80ad04",
   "metadata": {},
   "source": [
    "# Python Advance Assignment 1"
   ]
  },
  {
   "cell_type": "markdown",
   "id": "45e5459b",
   "metadata": {},
   "source": [
    ">Q1. What is the purpose of Python's OOP?\n"
   ]
  },
  {
   "cell_type": "markdown",
   "id": "ca9f30bf",
   "metadata": {},
   "source": [
    "Ans. The purpose of Python's Object-Oriented Programming (OOP) is to facilitate the creation of reusable, modular, and organized code by leveraging the concepts of classes and objects.By using OOP in python , we can use some specific objectives like encapsulation ,inheritance, polymorphism etc."
   ]
  },
  {
   "cell_type": "markdown",
   "id": "143f770b",
   "metadata": {},
   "source": [
    ">Q2. Where does an inheritance search look for an attribute?"
   ]
  },
  {
   "cell_type": "markdown",
   "id": "fb121220",
   "metadata": {},
   "source": [
    "Ans. An inheritance search looks for an attribute first in the instance object, then in the class the instance was created from, then in all higher superclasses, progressing from left to right. An inheritance search follows the specific order known as the Method Resolution Order (MRO). "
   ]
  },
  {
   "cell_type": "markdown",
   "id": "91d25f21",
   "metadata": {},
   "source": [
    ">Q3. How do you distinguish between a class object and an instance object?"
   ]
  },
  {
   "cell_type": "markdown",
   "id": "8fc10218",
   "metadata": {},
   "source": [
    "* Definition: \n",
    "\n",
    "A class object is created when a class is defined. It acts as a blueprint for creating instance objects. It is not an actual object but a template.\n",
    "\n",
    "An instance object is created when the class is instantiated. It is an actual object created based on the class blueprint.\n",
    "\n",
    "* Creation: \n",
    "\n",
    "Class objects are created using the 'class' keyword.\n",
    "\n",
    "Instance objects are created by calling the class.\n",
    "\n",
    "* Access: \n",
    "\n",
    "Class objects can be accessed directly using the class name.\n",
    "\n",
    "Instance objects can access both class attributes (though not typically done) and instance attributes.\n",
    "\n",
    "* Attributes and Methods: \n",
    "\n",
    "Class objects contain class attributes (shared by all instances) and class methods.\n",
    "\n",
    "Instance objects have their own attributes (unique to each instance) and can call instance methods.\n",
    "\n",
    "* Purpose:  \n",
    "\n",
    "Class objects are used to define the structure and behavior (through attributes and methods) that instances of the class will have.\n",
    "\n",
    "Instance objects represent actual objects that can interact with and use the structure and behavior defined by the class."
   ]
  },
  {
   "cell_type": "markdown",
   "id": "6ffbe1e2",
   "metadata": {},
   "source": [
    ">Q4. What makes the first argument in a class’s method function special?"
   ]
  },
  {
   "cell_type": "markdown",
   "id": "ce03a19b",
   "metadata": {},
   "source": [
    "Ans.The first argument in a class's method function is special because it refers to the instance of the class itself. This argument is conventionally named 'self' in instance methods and 'cls' in class methods.\n",
    "\n",
    "* Refers to the Instance: \n",
    "\n",
    "The self parameter in instance methods refers to the instance of the class that is calling the method. It allows access to the instance’s attributes and other methods.\n",
    "\n",
    "* Distinguishes Instance Methods: \n",
    "\n",
    "Including self in the method signature distinguishes instance methods from other types of methods, such as static methods and class methods."
   ]
  },
  {
   "cell_type": "markdown",
   "id": "358519fc",
   "metadata": {},
   "source": [
    ">Q5. What is the purpose of the __init__ method?"
   ]
  },
  {
   "cell_type": "markdown",
   "id": "0bc13d43",
   "metadata": {},
   "source": [
    "Ans. The __init__ method in Python, often referred to as the initializer or constructor, is a special method that is automatically called when a new instance of a class is created. The primary purpose of the __init__ method is to initialize the newly created object by setting its initial state, typically by assigning values to its attributes. It s used to initialize the attributes of an object as soon as the object is formed. While giving the definition for an __init__(self) method, a default parameter, named 'self' is always passed in its argument. This self represents the object of the class itself."
   ]
  },
  {
   "cell_type": "markdown",
   "id": "b9c167d7",
   "metadata": {},
   "source": [
    ">Q6. What is the process for creating a class instance?"
   ]
  },
  {
   "cell_type": "markdown",
   "id": "c731c8bc",
   "metadata": {},
   "source": [
    "* Creating a class instance in Python involves a few steps :\n",
    "\n",
    "First, you need to define a class. This includes specifying the class name, attributes, and methods.\n",
    "\n",
    "Call the class name with any necessary arguments to create a new instance.\n",
    "\n",
    "Python allocates memory for the new instance. This step involves creating a new, empty object.\n",
    "\n",
    "The __init__ method initializes the instance.\n",
    "\n",
    "Return the Instance: The fully initialized instance is returned to the caller."
   ]
  },
  {
   "cell_type": "markdown",
   "id": "0f3bcc23",
   "metadata": {},
   "source": [
    ">Q7. What is the process for creating a class?"
   ]
  },
  {
   "cell_type": "markdown",
   "id": "6aa021d0",
   "metadata": {},
   "source": [
    "Ans: class keyword is used to created a class in python. The syntax to create a class in python is class <classname>:\n",
    "\n",
    "Example: class Car: ➞ this creates a class called Car"
   ]
  },
  {
   "cell_type": "markdown",
   "id": "ce115bd7",
   "metadata": {},
   "source": [
    ">Q8. How would you define the superclasses of a class?"
   ]
  },
  {
   "cell_type": "markdown",
   "id": "3d618887",
   "metadata": {},
   "source": [
    "Ans. Superclass/Parent class is given as a arugment to the child class\n",
    "\n",
    "Example: class Employee(Person): Here child class Employee inherits attributes and methofs from Superclass/Parent Person"
   ]
  },
  {
   "cell_type": "code",
   "execution_count": null,
   "id": "a46139b7",
   "metadata": {},
   "outputs": [],
   "source": []
  }
 ],
 "metadata": {
  "kernelspec": {
   "display_name": "Python 3 (ipykernel)",
   "language": "python",
   "name": "python3"
  },
  "language_info": {
   "codemirror_mode": {
    "name": "ipython",
    "version": 3
   },
   "file_extension": ".py",
   "mimetype": "text/x-python",
   "name": "python",
   "nbconvert_exporter": "python",
   "pygments_lexer": "ipython3",
   "version": "3.9.13"
  }
 },
 "nbformat": 4,
 "nbformat_minor": 5
}
