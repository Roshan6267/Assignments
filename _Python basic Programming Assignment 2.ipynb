{
 "cells": [
  {
   "cell_type": "markdown",
   "id": "c9f232f2",
   "metadata": {},
   "source": [
    "# Python basic Programming Assignment 2"
   ]
  },
  {
   "cell_type": "markdown",
   "id": "03d97237",
   "metadata": {},
   "source": [
    "1.\tWrite a Python program to convert kilometers to miles?"
   ]
  },
  {
   "cell_type": "code",
   "execution_count": 1,
   "id": "90a5951a",
   "metadata": {},
   "outputs": [
    {
     "name": "stdout",
     "output_type": "stream",
     "text": [
      "Enter Kilometer: 3\n",
      "Miles =  1.8599999999999999\n"
     ]
    }
   ],
   "source": [
    "km = int(input(\"Enter Kilometer: \"))\n",
    "miles = km*0.62\n",
    "print(\"Miles = \" , miles)"
   ]
  },
  {
   "cell_type": "markdown",
   "id": "b8bd4101",
   "metadata": {},
   "source": [
    "2.\tWrite a Python program to convert Celsius to Fahrenheit?"
   ]
  },
  {
   "cell_type": "code",
   "execution_count": 2,
   "id": "177c9515",
   "metadata": {},
   "outputs": [
    {
     "name": "stdout",
     "output_type": "stream",
     "text": [
      "Enter Celsius : 3\n",
      "37.4\n"
     ]
    }
   ],
   "source": [
    "Celsius = int(input(\"Enter Celsius : \"))\n",
    "\n",
    "fahrenheit = (Celsius * 9/5) +32\n",
    "print(fahrenheit)"
   ]
  },
  {
   "cell_type": "markdown",
   "id": "20205b4b",
   "metadata": {},
   "source": [
    "3.\tWrite a Python program to display calendar?"
   ]
  },
  {
   "cell_type": "code",
   "execution_count": 3,
   "id": "8a8e1326",
   "metadata": {},
   "outputs": [
    {
     "name": "stdout",
     "output_type": "stream",
     "text": [
      "Enter year: 2024\n",
      "Enter month: 3\n",
      "     March 2024\n",
      "Mo Tu We Th Fr Sa Su\n",
      "             1  2  3\n",
      " 4  5  6  7  8  9 10\n",
      "11 12 13 14 15 16 17\n",
      "18 19 20 21 22 23 24\n",
      "25 26 27 28 29 30 31\n",
      "\n"
     ]
    }
   ],
   "source": [
    "import calendar\n",
    "yy = int(input(\"Enter year: \"))\n",
    "mm = int(input(\"Enter month: \"))\n",
    "print(calendar.month(yy,mm))"
   ]
  },
  {
   "cell_type": "markdown",
   "id": "c5e70228",
   "metadata": {},
   "source": [
    "4.\tWrite a Python program to solve quadratic equation?"
   ]
  },
  {
   "cell_type": "code",
   "execution_count": 6,
   "id": "4f5428fb",
   "metadata": {},
   "outputs": [
    {
     "name": "stdout",
     "output_type": "stream",
     "text": [
      "enter number: 1\n",
      "enter number: 5\n",
      "enter number: 6\n",
      "(-2+0j) , (-3+0j)\n"
     ]
    }
   ],
   "source": [
    "import cmath\n",
    "a = int(input(\"enter number: \"))\n",
    "b = int(input(\"enter number: \"))\n",
    "c = int(input(\"enter number: \"))\n",
    "discriminant = (b**2)-(4*a*c)\n",
    "sol_one = (-b+cmath.sqrt(discriminant))/(2*a)\n",
    "sol_two = (-b-cmath.sqrt(discriminant))/(2*a)\n",
    "print(sol_one,\",\",sol_two)"
   ]
  },
  {
   "cell_type": "markdown",
   "id": "f7fc765c",
   "metadata": {},
   "source": [
    "5.\tWrite a Python program to swap two variables without temp variable?"
   ]
  },
  {
   "cell_type": "code",
   "execution_count": 7,
   "id": "0d9c4f62",
   "metadata": {},
   "outputs": [
    {
     "name": "stdout",
     "output_type": "stream",
     "text": [
      "First Variable =3\n",
      "Second Variable =9\n",
      "First Variable Before swap  : 3 \n",
      " Second variable Before Swap  : 9\n",
      "After Swap : \n",
      " First Variabe : 9 \n",
      "  Second Variable : 3\n"
     ]
    }
   ],
   "source": [
    "first_variable = int(input(\"First Variable =\"))\n",
    "second_variable = int(input(\"Second Variable =\"))\n",
    "print(\"First Variable Before swap  : {} \\n Second variable Before Swap  : {}\".format(first_variable,second_variable))\n",
    "first_variable , second_variable = second_variable , first_variable\n",
    "\n",
    "print(\"After Swap : \\n First Variabe : {} \\n  Second Variable : {}\".format(first_variable , second_variable))"
   ]
  },
  {
   "cell_type": "code",
   "execution_count": null,
   "id": "3af7731e",
   "metadata": {},
   "outputs": [],
   "source": []
  }
 ],
 "metadata": {
  "kernelspec": {
   "display_name": "Python 3 (ipykernel)",
   "language": "python",
   "name": "python3"
  },
  "language_info": {
   "codemirror_mode": {
    "name": "ipython",
    "version": 3
   },
   "file_extension": ".py",
   "mimetype": "text/x-python",
   "name": "python",
   "nbconvert_exporter": "python",
   "pygments_lexer": "ipython3",
   "version": "3.9.13"
  }
 },
 "nbformat": 4,
 "nbformat_minor": 5
}
